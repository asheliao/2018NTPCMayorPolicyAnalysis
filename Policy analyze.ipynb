{
 "cells": [
  {
   "cell_type": "markdown",
   "metadata": {},
   "source": [
    "# 侯友宜"
   ]
  },
  {
   "cell_type": "code",
   "execution_count": 1,
   "metadata": {
    "collapsed": true
   },
   "outputs": [],
   "source": [
    "from bs4 import BeautifulSoup\n",
    "import requests\n",
    "from pandas.core.frame import DataFrame\n",
    "import pandas as pd\n",
    "import re"
   ]
  },
  {
   "cell_type": "code",
   "execution_count": 329,
   "metadata": {
    "collapsed": true
   },
   "outputs": [],
   "source": [
    "url = \"https://youyi.tw/About/politic\""
   ]
  },
  {
   "cell_type": "code",
   "execution_count": 330,
   "metadata": {
    "collapsed": true
   },
   "outputs": [],
   "source": [
    "res = requests.get(url)"
   ]
  },
  {
   "cell_type": "code",
   "execution_count": 331,
   "metadata": {},
   "outputs": [
    {
     "data": {
      "text/plain": [
       "'\\r\\n<!DOCTYPE html>\\r\\n<html lang=\"en\">\\r\\n<head prefix=\"og: http://ogp.me/ns#\">\\r\\n    <meta charset=\"UTF-8\">\\r\\n    <meta http-equiv=\"X-UA-Compatible\" content=\"IE=Edge\">\\r\\n    <meta name=\"viewport\" content=\"width=device-width, initial-scale=1\">\\r\\n\\r\\n            <meta property=\"og:title\" content=\"厚友誼-牽起我們的好日子\" />\\r\\n        <meta property=\"og:description\" content=\"有人的地方就有友誼，以友誼小物宣誓彼此感情，加入厚友誼逗陣行，一起牽起屬於新北的好日子。\" />\\r\\n        <meta property=\"og:image\" content=\"https://youyi.tw/content/images/fb.jpg\" />\\r\\n        <meta itemprop=\"name\" content=\"厚友誼-牽起我們的好日子\" />\\r\\n        <meta itemprop=\"description\" content=\"有人的地方就有友誼，以友誼小物宣誓彼此感情，加入厚友誼逗陣行，一起牽起屬於新北的好日子。\" />\\r\\n        <meta itemprop=\"image\" content=\"https://youyi.tw/content/images/fb.jpg\" />\\r\\n        <meta name=\"twitter:card\" content=\"厚友誼-牽起我們的好日子\" />\\r\\n        <meta name=\"twitter:title\" content=\"厚友誼-牽起我們的好日子\" />\\r\\n        <meta name=\"twitter:description\" content=\"有人的地方就有友誼，以友誼小物宣誓彼此感情，加入厚友誼逗陣行，一起牽起屬於新北的好日子。\" />\\r\\n        <meta name=\"twitter:image:src\" content=\"https://youyi.tw/content/images/fb.jpg\" />\\r\\n\\r\\n    <meta name=\"apple-mobile-web-app-title\" content=\"厚友誼-牽起我們的好日子\">\\r\\n    <link href=\"https://youyi.tw/Content/images/apple-icon-120x120.png\" rel=\"apple-touch-icon\" />\\r\\n    <link href=\"https://youyi.tw/Content/images/apple-icon-152x152.png\" rel=\"apple-touch-icon\" sizes=\"152x152\" />\\r\\n    <link href=\"https://youyi.tw/Content/images/apple-icon-167x167.png\" rel=\"apple-touch-icon\" sizes=\"167x167\" />\\r\\n    <link href=\"https://youyi.tw/Content/images/apple-icon-180x180.png\" rel=\"apple-touch-icon\" sizes=\"180x180\" />\\r\\n    <link href=\"https://youyi.tw/Content/images/apple-icon.png\" rel=\"icon\" sizes=\"192x192\" />\\r\\n    <link href=\"https://youyi.tw/Content/images/apple-icon-128x128.png\" rel=\"icon\" sizes=\"128x128\" />\\r\\n    <title>厚友誼-牽起我們的好日子</title>\\r\\n    <meta name=\"title\" content=\"厚友誼-牽起我們的好日子\" />\\r\\n    <meta name=\"keywords\" content=\"友誼,侯友宜,作伙,交朋友,小物,厚友誼地圖,逗陣行,新北,2018九合一選舉,朱立倫接班人,國民黨新北市長候選人,好日子,選情民調\" />\\r\\n    <meta name=\"description\" content=\"有人的地方就有友誼，和侯友宜作伙交朋友，以友誼小物宣誓彼此感情，加入厚友誼逗陣行，一起牽起屬於新北的好日子！\" />\\r\\n    <link rel=\"shortcut icon\" href=\"/Content/images/favicon.ico\" type=\"image/x-icon\">\\r\\n    <link rel=\"icon\" href=\"/Content/images/favicon.ico\" type=\"image/x-icon\">\\r\\n\\r\\n    <link rel=\"stylesheet\" type=\"text/css\" href=\"/Content/css/bootstrap.min.css\">\\r\\n    <link href=\"/Content/css/alertify.core.css\" rel=\"stylesheet\" />\\r\\n    <link href=\"/Content/css/alertify.bootstrap.css\" rel=\"stylesheet\" />\\r\\n    <link href=\"/Content/css/animations.css\" rel=\"stylesheet\" />\\r\\n    <!--[if lte IE 9]>\\r\\n      <link href=\"~/Content/css/animations-ie-fix.css\" rel=\"stylesheet\" />\\r\\n      <![endif]-->\\r\\n    <link href=\"/Content/plugins/slim/slim.css\" rel=\"stylesheet\" />\\r\\n    <link href=\"/Content/css/style?v=2INfQqNAk4z7E_w7hcfI0eccD11ZeR6CVYii4zECEZ01\" rel=\"stylesheet\"/>\\r\\n\\r\\n    <script src=\"/Content/js/jquery-3.2.1.min.js\"></script>\\r\\n    <script src=\"https://d.line-scdn.net/r/web/social-plugin/js/thirdparty/loader.min.js\" async=\"async\" defer=\"defer\"></script>\\r\\n    \\r\\n    <!-- Global site tag (gtag.js) - Google Analytics -->\\r\\n    <script async src=\"https://www.googletagmanager.com/gtag/js?id=UA-121182226-1\"></script>\\r\\n    <script>\\r\\n        window.dataLayer = window.dataLayer || [];\\r\\n        function gtag() { dataLayer.push(arguments); }\\r\\n        gtag(\\'js\\', new Date());\\r\\n\\r\\n        gtag(\\'config\\', \\'UA-121182226-1\\');\\r\\n    </script>\\r\\n</head>\\r\\n\\r\\n<body>\\r\\n    <div id=\"container\">\\r\\n        \\r\\n<div id=\"about_politic\" class=\"innercontainer\">\\r\\n    <div class=\"inner\">\\r\\n        <div id=\"about_header\">\\r\\n            <div class=\"bgimg\"></div>\\r\\n            <div class=\"title\"></div>\\r\\n            <div class=\"word\"></div>\\r\\n            <div class=\"content\"></div>\\r\\n        </div>\\r\\n        <div id=\"about_tabs\">\\r\\n            <a id=\"tab1\" class=\"item active\" href=\"/About/politic\"></a>\\r\\n            <a id=\"tab2\" class=\"item\" href=\"/About/action\"></a>\\r\\n            <a id=\"tab3\" class=\"item\" href=\"/About/report\"></a>\\r\\n        </div>\\r\\n        <div id=\"about_content\">\\r\\n            <div class=\"item\">\\r\\n                <div class=\"title\">捷運蓋到哪裡 都更就做到哪裡<span>#1</span></div>\\r\\n                <div class=\"contentwrap\">\\r\\n                    <div class=\"imgbox\">\\r\\n                        <img src=\"https://youyi.tw/admin/Content/upload/image/20181016/8e178f18-4c87-42ce-8f03-8f7b26b029d9.jpg\" alt=\"\" />\\r\\n                    </div>\\r\\n                    <ul class=\"content\">\\r\\n                            <li>•  導入大眾運輸導向(TOD)概念，以捷運場站為節點，打造捷運生活核心圈，創造車站場域多元發展，繁榮周邊商圈</li>\\r\\n                            <li>•  兼顧公益，回饋容積優先施作托育、托老、社宅</li>\\r\\n                            <li>•  重新檢討捷運站周邊土地使用機能，捷運就是新北的都市計畫</li>\\r\\n                    </ul>\\r\\n                    <div class=\"clear\"></div>\\r\\n                </div>\\r\\n            </div>\\r\\n            <div class=\"item\">\\r\\n                <div class=\"title\">顧面子 要裡子─行政區主幹道 沿線都更<span>#2</span></div>\\r\\n                <div class=\"contentwrap\">\\r\\n                    <div class=\"imgbox\">\\r\\n                        <img src=\"https://youyi.tw/admin/Content/upload/image/20181016/950f9f9b-e70e-4b25-915b-384c4897f7c7.jpg\" alt=\"\" />\\r\\n                    </div>\\r\\n                    <ul class=\"content\">\\r\\n                            <li>•  透過「提升基準容積」，進而「拉高改建效能」，保障原有生活空間</li>\\r\\n                            <li>•  主幹道沿街面，凡是臨接基地與毗臨地區，也將推動都市環境整建，讓建築更安全、市容更美觀</li>\\r\\n                            <li></li>\\r\\n                    </ul>\\r\\n                    <div class=\"clear\"></div>\\r\\n                </div>\\r\\n            </div>\\r\\n            <div class=\"item\">\\r\\n                <div class=\"title\">危老都更 當然是政府的事<span>#3</span></div>\\r\\n                <div class=\"contentwrap\">\\r\\n                    <div class=\"imgbox\">\\r\\n                        <img src=\"https://youyi.tw/admin/Content/upload/image/20181016/85636ddb-f4b7-4ee9-a0ab-5979fe437d21.jpg\" alt=\"\" />\\r\\n                    </div>\\r\\n                    <ul class=\"content\">\\r\\n                            <li>•  政府主導、積極介入，確保市民遠離環境安全風險</li>\\r\\n                            <li>•  針對土壤液化、老舊危樓、道路狹窄等急迫區域優先進行</li>\\r\\n                            <li>•  增加老舊公寓裝設電梯誘因，守護高齡者居家安全</li>\\r\\n                            <li></li>\\r\\n                    </ul>\\r\\n                    <div class=\"clear\"></div>\\r\\n                </div>\\r\\n            </div>\\r\\n            <div class=\"item\">\\r\\n                <div class=\"title\">三環三線再升級<span>#4</span></div>\\r\\n                <div class=\"contentwrap\">\\r\\n                    <div class=\"imgbox\">\\r\\n                        <img src=\"https://youyi.tw/admin/Content/upload/image/20181016/3ca86f88-129c-408f-b2df-b5077937c1b6.jpg\" alt=\"\" />\\r\\n                    </div>\\r\\n                    <ul class=\"content\">\\r\\n                            <li>•  在三環三線基礎上，再推動五股泰山輕軌、深坑輕軌、淡海輕軌延伸八里工程</li>\\r\\n                            <li>•  機捷票價比照北捷，提高大眾軌道運輸運量</li>\\r\\n                            <li></li>\\r\\n                    </ul>\\r\\n                    <div class=\"clear\"></div>\\r\\n                </div>\\r\\n            </div>\\r\\n            <div class=\"item\">\\r\\n                <div class=\"title\">永續環境—拒絕深澳燃煤電廠<span>#5</span></div>\\r\\n                <div class=\"contentwrap\">\\r\\n                    <div class=\"imgbox\">\\r\\n                        <img src=\"https://youyi.tw/admin/Content/upload/image/20181016/14a99aa3-bfe8-4372-8833-1abd040e94b1.jpg\" alt=\"\" />\\r\\n                    </div>\\r\\n                    <ul class=\"content\">\\r\\n                            <li>•  能源政策建構在國民的健康之上</li>\\r\\n                            <li>•  鼓勵產業智慧節能轉型升級</li>\\r\\n                            <li>•  全力扶助節能產業發展</li>\\r\\n                            <li></li>\\r\\n                    </ul>\\r\\n                    <div class=\"clear\"></div>\\r\\n                </div>\\r\\n            </div>\\r\\n            <div class=\"item\">\\r\\n                <div class=\"title\">營養午餐更營養<span>#6</span></div>\\r\\n                <div class=\"contentwrap\">\\r\\n                    <div class=\"imgbox\">\\r\\n                        <img src=\"https://youyi.tw/admin/Content/upload/image/20181016/bb92e028-0d0a-45d4-bfd5-1b35549e7276.jpg\" alt=\"\" />\\r\\n                    </div>\\r\\n                    <ul class=\"content\">\\r\\n                            <li>•  自立午餐普及化，1天有機蔬菜＋4天產銷履歷蔬菜，讓學生吃得安心健康</li>\\r\\n                            <li>•  擴大有機農業契作，打開有機農產通路</li>\\r\\n                            <li>•  結合有機農業，食農教育走出戶外</li>\\r\\n                            <li></li>\\r\\n                    </ul>\\r\\n                    <div class=\"clear\"></div>\\r\\n                </div>\\r\\n            </div>\\r\\n            <div class=\"item\">\\r\\n                <div class=\"title\">更多公托 安心托育<span>#7</span></div>\\r\\n                <div class=\"contentwrap\">\\r\\n                    <div class=\"imgbox\">\\r\\n                        <img src=\"https://youyi.tw/admin/Content/upload/image/20181016/a07d209e-47ae-4247-b158-b215017fba77.jpg\" alt=\"\" />\\r\\n                    </div>\\r\\n                    <ul class=\"content\">\\r\\n                            <li>•  擴大公托規模，未來四年將倍增公共托育量</li>\\r\\n                            <li>•  提倡社區化托育</li>\\r\\n                            <li>•  持續推動公私立托育合作聯盟</li>\\r\\n                            <li>•  鼓勵企業自辦聯合托育，提高補助誘因</li>\\r\\n                            <li></li>\\r\\n                    </ul>\\r\\n                    <div class=\"clear\"></div>\\r\\n                </div>\\r\\n            </div>\\r\\n            <div class=\"item\">\\r\\n                <div class=\"title\">教育\\u3000讓下一代多元、好未來<span>#8</span></div>\\r\\n                <div class=\"contentwrap\">\\r\\n                    <div class=\"imgbox\">\\r\\n                        <img src=\"https://youyi.tw/admin/Content/upload/image/20181016/7d88fdb7-81da-45f0-a2a1-1feac2f27671.jpg\" alt=\"\" />\\r\\n                    </div>\\r\\n                    <ul class=\"content\">\\r\\n                            <li>•  升級校園網路環境，邁向「教室無邊界，學習無國界」</li>\\r\\n                            <li>•  毒品遠離校園，建構安全防制網絡；整合高關懷青少年與高風險家庭機制，市長親自督導社會安全網整合平台</li>\\r\\n                            <li>•  強化國中小職能探索，持續建置職業試探暨體驗教育中心</li>\\r\\n                            <li>•  增設公立幼兒園，更新優化幼兒園及國小遊戲器材，提供孩子安全、創意、多元的環境</li>\\r\\n                            <li></li>\\r\\n                    </ul>\\r\\n                    <div class=\"clear\"></div>\\r\\n                </div>\\r\\n            </div>\\r\\n            <div class=\"item\">\\r\\n                <div class=\"title\">全面推動污水下水道<span>#9</span></div>\\r\\n                <div class=\"contentwrap\">\\r\\n                    <div class=\"imgbox\">\\r\\n                        <img src=\"https://youyi.tw/admin/Content/upload/image/20181016/e05b0070-5793-4526-8a62-465da4ccdb62.jpg\" alt=\"\" />\\r\\n                    </div>\\r\\n                    <ul class=\"content\">\\r\\n                            <li>•接管率八年來從36%，至今超過90%，年底預計突破92萬戶</li>\\r\\n                            <li>•未來積極提升下水道接管戶數，做到全市全面接管</li>\\r\\n                    </ul>\\r\\n                    <div class=\"clear\"></div>\\r\\n                </div>\\r\\n            </div>\\r\\n            <div class=\"item\">\\r\\n                <div class=\"title\">打造高齡宜居城市<span>#10</span></div>\\r\\n                <div class=\"contentwrap\">\\r\\n                    <div class=\"imgbox\">\\r\\n                        <img src=\"https://youyi.tw/admin/Content/upload/image/20181016/0326d0cc-11e6-4336-8415-084a2febcc9a.jpg\" alt=\"\" />\\r\\n                    </div>\\r\\n                    <ul class=\"content\">\\r\\n                            <li>•  朝向全市「一里一銀髮俱樂部」的老人休閒據點為目標</li>\\r\\n                            <li>•  提供便利社區運動埸所，舉辦銀髮社區旅遊，加強銀髮族的二度就業，從源頭降低長照負擔</li>\\r\\n                            <li>•  打造「長照社區化」、「在地人照顧在地人」</li>\\r\\n                            <li>•  打造高齡無障礙生活空間:市府工程將以通用設計為標準規範;推動通用設計納入自治條例;推動以人為本的路平專案</li>\\r\\n                    </ul>\\r\\n                    <div class=\"clear\"></div>\\r\\n                </div>\\r\\n            </div>\\r\\n            <div class=\"item\">\\r\\n                <div class=\"title\">提高公共運輸<span>#11</span></div>\\r\\n                <div class=\"contentwrap\">\\r\\n                    <div class=\"imgbox\">\\r\\n                        <img src=\"https://youyi.tw/admin/Content/upload/image/20181016/ea44c34b-525f-43c5-8447-8fb833bda026.jpg\" alt=\"\" />\\r\\n                    </div>\\r\\n                    <ul class=\"content\">\\r\\n                            <li>•  打造路網串聯周邊城市社區，漸進解決塞車問題</li>\\r\\n                            <li>•  在捷運尚未完工前，與里長、社區管委會合作，加強推廣社區共乘機制</li>\\r\\n                            <li>•  增加快捷公車的班次、路線</li>\\r\\n                            <li>•  優先推出捷運先導公車，培養客群運量與搭乘習慣</li>\\r\\n                    </ul>\\r\\n                    <div class=\"clear\"></div>\\r\\n                </div>\\r\\n            </div>\\r\\n            <div class=\"item\">\\r\\n                <div class=\"title\">鼓勵全民運動<span>#12</span></div>\\r\\n                <div class=\"contentwrap\">\\r\\n                    <div class=\"imgbox\">\\r\\n                        <img src=\"https://youyi.tw/admin/Content/upload/image/20181016/659a0813-ed4b-47bb-8ee7-b0cbe90164d8.jpg\" alt=\"\" />\\r\\n                    </div>\\r\\n                    <ul class=\"content\">\\r\\n                            <li>•  目前新北市已有13座運動中心正式投入營運</li>\\r\\n                            <li>•  持續完成林口、新店及五股3座運動中心以及瑞芳1座運動公園</li>\\r\\n                            <li>•  開放公共空間，打造城市多元運動舞台</li>\\r\\n                    </ul>\\r\\n                    <div class=\"clear\"></div>\\r\\n                </div>\\r\\n            </div>\\r\\n            <div class=\"item\">\\r\\n                <div class=\"title\">行銷農漁特產<span>#13</span></div>\\r\\n                <div class=\"contentwrap\">\\r\\n                    <div class=\"imgbox\">\\r\\n                        <img src=\"https://youyi.tw/admin/Content/upload/image/20181016/e30c2439-ab4e-487b-9125-2f91573601c9.jpg\" alt=\"\" />\\r\\n                    </div>\\r\\n                    <ul class=\"content\">\\r\\n                            <li>•  鼓勵在地創生，農業、生態、觀光齊打拼，驅動農業創新引擎</li>\\r\\n                            <li>•  複製萬里蟹成功模式，加強行銷農漁產品</li>\\r\\n                            <li>•  鼓勵「吃當季、吃在地」，增加在地農產專櫃、假日農夫市集等通路</li>\\r\\n                    </ul>\\r\\n                    <div class=\"clear\"></div>\\r\\n                </div>\\r\\n            </div>\\r\\n            <div class=\"item\">\\r\\n                <div class=\"title\">新北勞工我挺你<span>#14</span></div>\\r\\n                <div class=\"contentwrap\">\\r\\n                    <div class=\"imgbox\">\\r\\n                        <img src=\"https://youyi.tw/admin/Content/upload/image/20181016/b01bd787-0e30-409b-8318-a80490abf038.jpg\" alt=\"\" />\\r\\n                    </div>\\r\\n                    <ul class=\"content\">\\r\\n                            <li>•  加強勞動檢查</li>\\r\\n                            <li>•  零工經濟協助方案</li>\\r\\n                            <li>•  擴大青年勞工參與式預算</li>\\r\\n                    </ul>\\r\\n                    <div class=\"clear\"></div>\\r\\n                </div>\\r\\n            </div>\\r\\n            <div class=\"item\">\\r\\n                <div class=\"title\">青年創業 全力支持<span>#15</span></div>\\r\\n                <div class=\"contentwrap\">\\r\\n                    <div class=\"imgbox\">\\r\\n                        <img src=\"https://youyi.tw/admin/Content/upload/image/20181016/78621a90-0a52-4f4a-9627-2d70d1aab66c.jpg\" alt=\"\" />\\r\\n                    </div>\\r\\n                    <ul class=\"content\">\\r\\n                            <li>•  鼓勵發展結合環保、智能、綠色等微型或文創產業</li>\\r\\n                            <li>•  捷運都更釋放公益空間，作為青年創客工坊</li>\\r\\n                            <li>•  推動「自造串聯平台」(MakerChain)，打造媒合自造者、新創團隊、製造商之間的產業鏈合作平台</li>\\r\\n                    </ul>\\r\\n                    <div class=\"clear\"></div>\\r\\n                </div>\\r\\n            </div>\\r\\n            <div class=\"item\">\\r\\n                <div class=\"title\">住得起的社會住宅<span>#16</span></div>\\r\\n                <div class=\"contentwrap\">\\r\\n                    <div class=\"imgbox\">\\r\\n                        <img src=\"https://youyi.tw/admin/Content/upload/image/20181016/4bdd2ac3-3586-4db2-8057-23fc6a48d75e.jpg\" alt=\"\" />\\r\\n                    </div>\\r\\n                    <ul class=\"content\">\\r\\n                            <li>•  捷運沿線都更釋出公益回饋空間，讓社會住宅遍地開花，同步達成「捷運宅」效果</li>\\r\\n                            <li>•  視市府財政狀況，增加新北市租金補助名額</li>\\r\\n                    </ul>\\r\\n                    <div class=\"clear\"></div>\\r\\n                </div>\\r\\n            </div>\\r\\n            <div class=\"item\">\\r\\n                <div class=\"title\">健康政見<span>#17</span></div>\\r\\n                <div class=\"contentwrap\">\\r\\n                    <div class=\"imgbox\">\\r\\n                        <img src=\"https://youyi.tw/admin/Content/upload/image/20181016/ca1fe329-c131-4296-b0d6-0bd72164b4cd.jpg\" alt=\"\" />\\r\\n                    </div>\\r\\n                    <ul class=\"content\">\\r\\n                            <li>•  杜絕醫療暴力，保障醫事人員安全執業</li>\\r\\n                            <li>•  增加長照據點，照顧好安心，健康又平等</li>\\r\\n                            <li>•  落實分級醫療，醫院、診所聯合攜手</li>\\r\\n                            <li>•  打擊兒虐危害，維護家庭安全</li>\\r\\n                            <li>•  反轉衰弱2.0，新北健康好心情</li>\\r\\n                    </ul>\\r\\n                    <div class=\"clear\"></div>\\r\\n                </div>\\r\\n            </div>\\r\\n            <div class=\"item\">\\r\\n                <div class=\"title\">青春山海線<span>#18</span></div>\\r\\n                <div class=\"contentwrap\">\\r\\n                    <div class=\"imgbox\">\\r\\n                        <img src=\"https://youyi.tw/admin/Content/upload/image/20181016/4df9d776-98c4-4f51-9b6d-c47b6e705002.jpg\" alt=\"\" />\\r\\n                    </div>\\r\\n                    <ul class=\"content\">\\r\\n                            <li>•  以綠能旅遊串連新北海岸線，打造成最美的海岸觀光休閒品牌</li>\\r\\n                            <li>•  用電動車、電動機車、鐵路等大眾運輸的接駁，推行環保旅遊的觀念</li>\\r\\n                            <li>•  逐步在北海岸和東北角沿線公有停車場架設充電驛站，以每一個風景景點都有電動車充電站為目標</li>\\r\\n                            <li>•  針對各地的風景名勝推出APP，讓當地名人以錄音介紹在地故事，旅遊同時就聽見在地人聲音介紹在地故事。例如侯孝賢談九份、吳念真講礦工故事。</li>\\r\\n                    </ul>\\r\\n                    <div class=\"clear\"></div>\\r\\n                </div>\\r\\n            </div>\\r\\n        </div>\\r\\n    </div>\\r\\n</div>\\r\\n\\r\\n        <div id=\"navbar\" class=\"innerpage active delay\">\\r\\n            <div class=\"inner\">\\r\\n                <div id=\"navmobilebg\"></div>\\r\\n                <a id=\"logo\" class=\"scrollto\" href=\"/#home\"></a>\\r\\n                <ul id=\"sub_menu\">\\r\\n                    <li><a href=\"/About\" class=\"\">政策專區</a></li>\\r\\n                    <li><a href=\"/News\" class=\"\">新聞專區</a></li>\\r\\n                    <li><a href=\"https://www.youtube.com/channel/UC32-_I3s4f_8ysGtJca5SMA\" target=\"_blank\" class=\"\">影音專區</a></li>\\r\\n                    <li><a href=\"https://donate.spgateway.com/youyi999/youyi999\" target=\"_blank\" class=\"\">小額捐款</a></li>\\r\\n                        <li id=\"menu_build\"><a href=\"/#build\" class=\"scrollto\">建立厚友誼</a></li>\\r\\n                    \\r\\n                    \\r\\n\\r\\n\\r\\n                    <li><a href=\"javascript:showApp();\">小侯AR互動區</a></li>\\r\\n\\r\\n                </ul>\\r\\n                <div id=\"line_friend_mobile\">\\r\\n                    <div class=\"line-it-button\" style=\"display: none;\" data-lang=\"zh_Hant\" data-type=\"friend\" data-lineid=\"@youyi\" data-count=\"true\" data-home=\"true\"></div>\\r\\n                </div>\\r\\n\\r\\n                <div id=\"social\">\\r\\n                    <div id=\"navsharebox\">\\r\\n                        <a class=\"shareitem share_fb\" href=\"javascript: void(window.open(&#39;http://www.facebook.com/sharer.php?u=&#39;.concat(encodeURIComponent(location.href)) ));\" target=\"_blank\"></a>\\r\\n                        <a class=\"shareitem share_gplus\" href=\"javascript: void(window.open(&#39;https://plus.google.com/share?url=&#39;.concat(encodeURIComponent(location.href)), &#39;&#39;, &#39;menubar=no,toolbar=no,resizable=yes,scrollbars=yes,height=600,width=600&#39;));\" target=\"_blank\"></a>\\r\\n                        <a class=\"shareitem share_line\" href=\"http://line.me/R/msg/text/?從握手到牽手，自陌生到熟悉，每段友誼的建立都得來不易！%0D%0A與我建立厚友誼，一起牽起屬於新北的好日子%0D%0Ahttps%3a%2f%2fyouyi.tw%2fAbout%2fpolitic\" target=\"_blank\"></a>\\r\\n                    </div>\\r\\n                </div>\\r\\n\\r\\n                <div class=\"clear\"></div>\\r\\n            </div>\\r\\n        </div>\\r\\n        \\r\\n        <div id=\"btn_menu\" class=\"\"></div>\\r\\n        <div id=\"footer\">\\r\\n            <div class=\"socialbox\">\\r\\n                <a href=\"https://www.facebook.com/houyouyi/\" target=\"_blank\" class=\"social_fb\"></a>\\r\\n                <a href=\"https://www.instagram.com/hou.youyi/\" target=\"_blank\" class=\"social_ig\"></a>\\r\\n                <a href=\"https://line.me/R/ti/p/%40nxh7243v\" target=\"_blank\" class=\"social_line\"></a>\\r\\n            </div>\\r\\n            <div>\\r\\n                <span>侯友宜市民總部</span>\\r\\n                <span>電話：02 2962 6090</span>\\r\\n                <span>地址：220新北市板橋區中山路一段218號</span>\\r\\n            </div>\\r\\n            <span class=\"pctip\">本站最佳解析度1280x1024以上版本，</span><span class=\"pctip\">建議以Chrome、Firefox瀏覽器觀看。</span><span class=\"pctip\">若需使用IE瀏覽器，請使用IE10以上版本或Edge瀏覽器。</span><br />\\r\\n            Copyright®2018 厚友誼 All Rights Reserved.\\r\\n        </div>\\r\\n    </div>\\r\\n    <script src=\"/Content/js/bootstrap.bundle.min.js\"></script>\\r\\n    <script src=\"/Content/js/alertify.min.js\"></script>\\r\\n    <script src=\"/Content/js/css3-animate-it.js\"></script>\\r\\n    <script src=\"/Content/js/main?v=v9J5q0C18eSyTwl08R0T04mHsAbKyuOD7Pud89MkB3c1\"></script>\\r\\n\\r\\n\\r\\n                <script>\\r\\n            $(function () {\\r\\n                useMap = true;\\r\\n            });\\r\\n        </script>\\r\\n    <script>\\r\\n        $(function () {\\r\\n            homeUrl = \\'https://youyi.tw/\\';\\r\\n        });\\r\\n    </script>\\r\\n    \\r\\n    <script src=\"/Content/js/jquery.twzipcode.js\"></script>\\r\\n    <script>\\r\\n        $(function () {\\r\\n            $(\"body\").addClass(\"innerpage\");\\r\\n            //$(\"#navbar\").addClass(\"innerpage\").addClass(\"active\");\\r\\n            $(\"#footer\").addClass(\"innerpage\");\\r\\n            $(\".scrollto\").unbind(\"click\");\\r\\n            $(\".innercontainer\").addClass(\"about\");\\r\\n            $(window).off(\\'scroll\\');\\r\\n            //if ($(window).width() >= 768) {\\r\\n                setTimeout(function () {\\r\\n                    $(\".delay\").fadeIn(1000);\\r\\n                }, 500);\\r\\n            //}\\r\\n        });\\r\\n    </script>\\r\\n\\r\\n\\r\\n\\r\\n</body>\\r\\n</html>'"
      ]
     },
     "execution_count": 331,
     "metadata": {},
     "output_type": "execute_result"
    }
   ],
   "source": [
    "res.text"
   ]
  },
  {
   "cell_type": "code",
   "execution_count": 332,
   "metadata": {},
   "outputs": [
    {
     "name": "stdout",
     "output_type": "stream",
     "text": [
      "['捷運蓋到哪裡 都更就做到哪裡', '顧面子 要裡子─行政區主幹道 沿線都更', '危老都更 當然是政府的事', '三環三線再升級', '永續環境—拒絕深澳燃煤電廠', '營養午餐更營養', '更多公托 安心托育', '教育\\u3000讓下一代多元、好未來', '全面推動污水下水道', '打造高齡宜居城市', '提高公共運輸', '鼓勵全民運動', '行銷農漁特產', '新北勞工我挺你', '青年創業 全力支持', '住得起的社會住宅', '健康政見', '青春山海線']\n"
     ]
    },
    {
     "name": "stderr",
     "output_type": "stream",
     "text": [
      "C:\\Users\\Ashe\\Anaconda3\\lib\\site-packages\\bs4\\__init__.py:181: UserWarning: No parser was explicitly specified, so I'm using the best available HTML parser for this system (\"lxml\"). This usually isn't a problem, but if you run this code on another system, or in a different virtual environment, it may use a different parser and behave differently.\n",
      "\n",
      "The code that caused this warning is on line 193 of the file C:\\Users\\Ashe\\Anaconda3\\lib\\runpy.py. To get rid of this warning, change code that looks like this:\n",
      "\n",
      " BeautifulSoup(YOUR_MARKUP})\n",
      "\n",
      "to this:\n",
      "\n",
      " BeautifulSoup(YOUR_MARKUP, \"lxml\")\n",
      "\n",
      "  markup_type=markup_type))\n"
     ]
    }
   ],
   "source": [
    "data = BeautifulSoup(res.text)\n",
    "title_list = []\n",
    "\n",
    "for i in range(1, 19):\n",
    "    title = data.select(\"#about_content > div:nth-of-type(\" + str(i) + \")> div.title\")\n",
    "    title = str(title).strip('[]').replace('<div class=\"title\">', \"\").replace('</span></div>', \"\").replace(\"<span>#\", \"\").replace(str(i), '')\n",
    "    title_list.append(title)\n",
    "print(title_list)\n",
    "df = DataFrame(title_list)"
   ]
  },
  {
   "cell_type": "code",
   "execution_count": 333,
   "metadata": {
    "collapsed": true
   },
   "outputs": [],
   "source": [
    "df.columns = [\"title\"]"
   ]
  },
  {
   "cell_type": "code",
   "execution_count": 334,
   "metadata": {},
   "outputs": [
    {
     "data": {
      "text/html": [
       "<div>\n",
       "<style>\n",
       "    .dataframe thead tr:only-child th {\n",
       "        text-align: right;\n",
       "    }\n",
       "\n",
       "    .dataframe thead th {\n",
       "        text-align: left;\n",
       "    }\n",
       "\n",
       "    .dataframe tbody tr th {\n",
       "        vertical-align: top;\n",
       "    }\n",
       "</style>\n",
       "<table border=\"1\" class=\"dataframe\">\n",
       "  <thead>\n",
       "    <tr style=\"text-align: right;\">\n",
       "      <th></th>\n",
       "      <th>title</th>\n",
       "    </tr>\n",
       "  </thead>\n",
       "  <tbody>\n",
       "    <tr>\n",
       "      <th>0</th>\n",
       "      <td>捷運蓋到哪裡 都更就做到哪裡</td>\n",
       "    </tr>\n",
       "    <tr>\n",
       "      <th>1</th>\n",
       "      <td>顧面子 要裡子─行政區主幹道 沿線都更</td>\n",
       "    </tr>\n",
       "    <tr>\n",
       "      <th>2</th>\n",
       "      <td>危老都更 當然是政府的事</td>\n",
       "    </tr>\n",
       "    <tr>\n",
       "      <th>3</th>\n",
       "      <td>三環三線再升級</td>\n",
       "    </tr>\n",
       "    <tr>\n",
       "      <th>4</th>\n",
       "      <td>永續環境—拒絕深澳燃煤電廠</td>\n",
       "    </tr>\n",
       "    <tr>\n",
       "      <th>5</th>\n",
       "      <td>營養午餐更營養</td>\n",
       "    </tr>\n",
       "    <tr>\n",
       "      <th>6</th>\n",
       "      <td>更多公托 安心托育</td>\n",
       "    </tr>\n",
       "    <tr>\n",
       "      <th>7</th>\n",
       "      <td>教育　讓下一代多元、好未來</td>\n",
       "    </tr>\n",
       "    <tr>\n",
       "      <th>8</th>\n",
       "      <td>全面推動污水下水道</td>\n",
       "    </tr>\n",
       "    <tr>\n",
       "      <th>9</th>\n",
       "      <td>打造高齡宜居城市</td>\n",
       "    </tr>\n",
       "    <tr>\n",
       "      <th>10</th>\n",
       "      <td>提高公共運輸</td>\n",
       "    </tr>\n",
       "    <tr>\n",
       "      <th>11</th>\n",
       "      <td>鼓勵全民運動</td>\n",
       "    </tr>\n",
       "    <tr>\n",
       "      <th>12</th>\n",
       "      <td>行銷農漁特產</td>\n",
       "    </tr>\n",
       "    <tr>\n",
       "      <th>13</th>\n",
       "      <td>新北勞工我挺你</td>\n",
       "    </tr>\n",
       "    <tr>\n",
       "      <th>14</th>\n",
       "      <td>青年創業 全力支持</td>\n",
       "    </tr>\n",
       "    <tr>\n",
       "      <th>15</th>\n",
       "      <td>住得起的社會住宅</td>\n",
       "    </tr>\n",
       "    <tr>\n",
       "      <th>16</th>\n",
       "      <td>健康政見</td>\n",
       "    </tr>\n",
       "    <tr>\n",
       "      <th>17</th>\n",
       "      <td>青春山海線</td>\n",
       "    </tr>\n",
       "  </tbody>\n",
       "</table>\n",
       "</div>"
      ],
      "text/plain": [
       "                  title\n",
       "0        捷運蓋到哪裡 都更就做到哪裡\n",
       "1   顧面子 要裡子─行政區主幹道 沿線都更\n",
       "2          危老都更 當然是政府的事\n",
       "3               三環三線再升級\n",
       "4         永續環境—拒絕深澳燃煤電廠\n",
       "5               營養午餐更營養\n",
       "6             更多公托 安心托育\n",
       "7         教育　讓下一代多元、好未來\n",
       "8             全面推動污水下水道\n",
       "9              打造高齡宜居城市\n",
       "10               提高公共運輸\n",
       "11               鼓勵全民運動\n",
       "12               行銷農漁特產\n",
       "13              新北勞工我挺你\n",
       "14            青年創業 全力支持\n",
       "15             住得起的社會住宅\n",
       "16                 健康政見\n",
       "17                青春山海線"
      ]
     },
     "execution_count": 334,
     "metadata": {},
     "output_type": "execute_result"
    }
   ],
   "source": [
    "df"
   ]
  },
  {
   "cell_type": "code",
   "execution_count": 335,
   "metadata": {},
   "outputs": [
    {
     "data": {
      "text/plain": [
       "[<ul class=\"content\">\n",
       " <li>•  導入大眾運輸導向(TOD)概念，以捷運場站為節點，打造捷運生活核心圈，創造車站場域多元發展，繁榮周邊商圈</li>\n",
       " <li>•  兼顧公益，回饋容積優先施作托育、托老、社宅</li>\n",
       " <li>•  重新檢討捷運站周邊土地使用機能，捷運就是新北的都市計畫</li>\n",
       " </ul>]"
      ]
     },
     "execution_count": 335,
     "metadata": {},
     "output_type": "execute_result"
    }
   ],
   "source": [
    "data.select(\"#about_content > div:nth-of-type(1) > div.contentwrap > ul\")"
   ]
  },
  {
   "cell_type": "code",
   "execution_count": 336,
   "metadata": {},
   "outputs": [
    {
     "name": "stdout",
     "output_type": "stream",
     "text": [
      "['導入大眾運輸導向(TOD)概念，以捷運場站為節點，打造捷運生活核心圈，創造車站場域多元發展，繁榮周邊商圈兼顧公益，回饋容積優先施作托育、托老、社宅重新檢討捷運站周邊土地使用機能，捷運就是新北的都市計畫', '透過「提升基準容積」，進而「拉高改建效能」，保障原有生活空間主幹道沿街面，凡是臨接基地與毗臨地區，也將推動都市環境整建，讓建築更安全、市容更美觀', '政府主導、積極介入，確保市民遠離環境安全風險針對土壤液化、老舊危樓、道路狹窄等急迫區域優先進行增加老舊公寓裝設電梯誘因，守護高齡者居家安全', '在三環三線基礎上，再推動五股泰山輕軌、深坑輕軌、淡海輕軌延伸八里工程機捷票價比照北捷，提高大眾軌道運輸運量', '能源政策建構在國民的健康之上鼓勵產業智慧節能轉型升級全力扶助節能產業發展', '自立午餐普及化，1天有機蔬菜＋4天產銷履歷蔬菜，讓學生吃得安心健康擴大有機農業契作，打開有機農產通路結合有機農業，食農教育走出戶外', '擴大公托規模，未來四年將倍增公共托育量提倡社區化托育持續推動公私立托育合作聯盟鼓勵企業自辦聯合托育，提高補助誘因', '升級校園網路環境，邁向「教室無邊界，學習無國界」毒品遠離校園，建構安全防制網絡；整合高關懷青少年與高風險家庭機制，市長親自督導社會安全網整合平台強化國中小職能探索，持續建置職業試探暨體驗教育中心增設公立幼兒園，更新優化幼兒園及國小遊戲器材，提供孩子安全、創意、多元的環境', '接管率八年來從36%，至今超過90%，年底預計突破92萬戶未來積極提升下水道接管戶數，做到全市全面接管', '朝向全市「一里一銀髮俱樂部」的老人休閒據點為目標提供便利社區運動埸所，舉辦銀髮社區旅遊，加強銀髮族的二度就業，從源頭降低長照負擔打造「長照社區化」、「在地人照顧在地人」打造高齡無障礙生活空間:市府工程將以通用設計為標準規範;推動通用設計納入自治條例;推動以人為本的路平專案', '打造路網串聯周邊城市社區，漸進解決塞車問題在捷運尚未完工前，與里長、社區管委會合作，加強推廣社區共乘機制增加快捷公車的班次、路線優先推出捷運先導公車，培養客群運量與搭乘習慣', '目前新北市已有13座運動中心正式投入營運持續完成林口、新店及五股3座運動中心以及瑞芳1座運動公園開放公共空間，打造城市多元運動舞台', '鼓勵在地創生，農業、生態、觀光齊打拼，驅動農業創新引擎複製萬里蟹成功模式，加強行銷農漁產品鼓勵「吃當季、吃在地」，增加在地農產專櫃、假日農夫市集等通路', '加強勞動檢查零工經濟協助方案擴大青年勞工參與式預算', '鼓勵發展結合環保、智能、綠色等微型或文創產業捷運都更釋放公益空間，作為青年創客工坊推動「自造串聯平台」(MakerChain)，打造媒合自造者、新創團隊、製造商之間的產業鏈合作平台', '捷運沿線都更釋出公益回饋空間，讓社會住宅遍地開花，同步達成「捷運宅」效果視市府財政狀況，增加新北市租金補助名額', '杜絕醫療暴力，保障醫事人員安全執業增加長照據點，照顧好安心，健康又平等落實分級醫療，醫院、診所聯合攜手打擊兒虐危害，維護家庭安全反轉衰弱2.0，新北健康好心情', '以綠能旅遊串連新北海岸線，打造成最美的海岸觀光休閒品牌用電動車、電動機車、鐵路等大眾運輸的接駁，推行環保旅遊的觀念逐步在北海岸和東北角沿線公有停車場架設充電驛站，以每一個風景景點都有電動車充電站為目標針對各地的風景名勝推出APP，讓當地名人以錄音介紹在地故事，旅遊同時就聽見在地人聲音介紹在地故事。例如侯孝賢談九份、吳念真講礦工故事。']\n"
     ]
    },
    {
     "name": "stderr",
     "output_type": "stream",
     "text": [
      "C:\\Users\\Ashe\\Anaconda3\\lib\\site-packages\\bs4\\__init__.py:181: UserWarning: No parser was explicitly specified, so I'm using the best available HTML parser for this system (\"lxml\"). This usually isn't a problem, but if you run this code on another system, or in a different virtual environment, it may use a different parser and behave differently.\n",
      "\n",
      "The code that caused this warning is on line 193 of the file C:\\Users\\Ashe\\Anaconda3\\lib\\runpy.py. To get rid of this warning, change code that looks like this:\n",
      "\n",
      " BeautifulSoup(YOUR_MARKUP})\n",
      "\n",
      "to this:\n",
      "\n",
      " BeautifulSoup(YOUR_MARKUP, \"lxml\")\n",
      "\n",
      "  markup_type=markup_type))\n"
     ]
    }
   ],
   "source": [
    "data = BeautifulSoup(res.text)\n",
    "content_list = []\n",
    "\n",
    "for i in range(1, 19):\n",
    "    content = data.select(\"#about_content > div:nth-of-type(\" + str(i) + \") > div.contentwrap > ul\")\n",
    "    content = str(content).strip('[]').replace('<ul class=\"content\">', \"\").replace('<li>•  ', \"\").replace(\"•\", '').replace(\"<li>\", '').replace(\"</li>\", \"\").replace(\"</ul>\", '').replace(\"\\n\", '').replace(\"\\n<li>\\n\", '')\n",
    "    content_list.append(content)\n",
    "print(content_list)"
   ]
  },
  {
   "cell_type": "code",
   "execution_count": 337,
   "metadata": {
    "collapsed": true
   },
   "outputs": [],
   "source": [
    "df2 = DataFrame(content_list)"
   ]
  },
  {
   "cell_type": "code",
   "execution_count": 338,
   "metadata": {},
   "outputs": [
    {
     "data": {
      "text/html": [
       "<div>\n",
       "<style>\n",
       "    .dataframe thead tr:only-child th {\n",
       "        text-align: right;\n",
       "    }\n",
       "\n",
       "    .dataframe thead th {\n",
       "        text-align: left;\n",
       "    }\n",
       "\n",
       "    .dataframe tbody tr th {\n",
       "        vertical-align: top;\n",
       "    }\n",
       "</style>\n",
       "<table border=\"1\" class=\"dataframe\">\n",
       "  <thead>\n",
       "    <tr style=\"text-align: right;\">\n",
       "      <th></th>\n",
       "      <th>content</th>\n",
       "    </tr>\n",
       "  </thead>\n",
       "  <tbody>\n",
       "    <tr>\n",
       "      <th>0</th>\n",
       "      <td>導入大眾運輸導向(TOD)概念，以捷運場站為節點，打造捷運生活核心圈，創造車站場域多元發展，...</td>\n",
       "    </tr>\n",
       "    <tr>\n",
       "      <th>1</th>\n",
       "      <td>透過「提升基準容積」，進而「拉高改建效能」，保障原有生活空間主幹道沿街面，凡是臨接基地與毗臨...</td>\n",
       "    </tr>\n",
       "    <tr>\n",
       "      <th>2</th>\n",
       "      <td>政府主導、積極介入，確保市民遠離環境安全風險針對土壤液化、老舊危樓、道路狹窄等急迫區域優先進...</td>\n",
       "    </tr>\n",
       "    <tr>\n",
       "      <th>3</th>\n",
       "      <td>在三環三線基礎上，再推動五股泰山輕軌、深坑輕軌、淡海輕軌延伸八里工程機捷票價比照北捷，提高大...</td>\n",
       "    </tr>\n",
       "    <tr>\n",
       "      <th>4</th>\n",
       "      <td>能源政策建構在國民的健康之上鼓勵產業智慧節能轉型升級全力扶助節能產業發展</td>\n",
       "    </tr>\n",
       "    <tr>\n",
       "      <th>5</th>\n",
       "      <td>自立午餐普及化，1天有機蔬菜＋4天產銷履歷蔬菜，讓學生吃得安心健康擴大有機農業契作，打開有機...</td>\n",
       "    </tr>\n",
       "    <tr>\n",
       "      <th>6</th>\n",
       "      <td>擴大公托規模，未來四年將倍增公共托育量提倡社區化托育持續推動公私立托育合作聯盟鼓勵企業自辦聯...</td>\n",
       "    </tr>\n",
       "    <tr>\n",
       "      <th>7</th>\n",
       "      <td>升級校園網路環境，邁向「教室無邊界，學習無國界」毒品遠離校園，建構安全防制網絡；整合高關懷青...</td>\n",
       "    </tr>\n",
       "    <tr>\n",
       "      <th>8</th>\n",
       "      <td>接管率八年來從36%，至今超過90%，年底預計突破92萬戶未來積極提升下水道接管戶數，做到全...</td>\n",
       "    </tr>\n",
       "    <tr>\n",
       "      <th>9</th>\n",
       "      <td>朝向全市「一里一銀髮俱樂部」的老人休閒據點為目標提供便利社區運動埸所，舉辦銀髮社區旅遊，加強...</td>\n",
       "    </tr>\n",
       "    <tr>\n",
       "      <th>10</th>\n",
       "      <td>打造路網串聯周邊城市社區，漸進解決塞車問題在捷運尚未完工前，與里長、社區管委會合作，加強推廣...</td>\n",
       "    </tr>\n",
       "    <tr>\n",
       "      <th>11</th>\n",
       "      <td>目前新北市已有13座運動中心正式投入營運持續完成林口、新店及五股3座運動中心以及瑞芳1座運動...</td>\n",
       "    </tr>\n",
       "    <tr>\n",
       "      <th>12</th>\n",
       "      <td>鼓勵在地創生，農業、生態、觀光齊打拼，驅動農業創新引擎複製萬里蟹成功模式，加強行銷農漁產品鼓...</td>\n",
       "    </tr>\n",
       "    <tr>\n",
       "      <th>13</th>\n",
       "      <td>加強勞動檢查零工經濟協助方案擴大青年勞工參與式預算</td>\n",
       "    </tr>\n",
       "    <tr>\n",
       "      <th>14</th>\n",
       "      <td>鼓勵發展結合環保、智能、綠色等微型或文創產業捷運都更釋放公益空間，作為青年創客工坊推動「自造...</td>\n",
       "    </tr>\n",
       "    <tr>\n",
       "      <th>15</th>\n",
       "      <td>捷運沿線都更釋出公益回饋空間，讓社會住宅遍地開花，同步達成「捷運宅」效果視市府財政狀況，增加...</td>\n",
       "    </tr>\n",
       "    <tr>\n",
       "      <th>16</th>\n",
       "      <td>杜絕醫療暴力，保障醫事人員安全執業增加長照據點，照顧好安心，健康又平等落實分級醫療，醫院、診...</td>\n",
       "    </tr>\n",
       "    <tr>\n",
       "      <th>17</th>\n",
       "      <td>以綠能旅遊串連新北海岸線，打造成最美的海岸觀光休閒品牌用電動車、電動機車、鐵路等大眾運輸的接...</td>\n",
       "    </tr>\n",
       "  </tbody>\n",
       "</table>\n",
       "</div>"
      ],
      "text/plain": [
       "                                              content\n",
       "0   導入大眾運輸導向(TOD)概念，以捷運場站為節點，打造捷運生活核心圈，創造車站場域多元發展，...\n",
       "1   透過「提升基準容積」，進而「拉高改建效能」，保障原有生活空間主幹道沿街面，凡是臨接基地與毗臨...\n",
       "2   政府主導、積極介入，確保市民遠離環境安全風險針對土壤液化、老舊危樓、道路狹窄等急迫區域優先進...\n",
       "3   在三環三線基礎上，再推動五股泰山輕軌、深坑輕軌、淡海輕軌延伸八里工程機捷票價比照北捷，提高大...\n",
       "4                能源政策建構在國民的健康之上鼓勵產業智慧節能轉型升級全力扶助節能產業發展\n",
       "5   自立午餐普及化，1天有機蔬菜＋4天產銷履歷蔬菜，讓學生吃得安心健康擴大有機農業契作，打開有機...\n",
       "6   擴大公托規模，未來四年將倍增公共托育量提倡社區化托育持續推動公私立托育合作聯盟鼓勵企業自辦聯...\n",
       "7   升級校園網路環境，邁向「教室無邊界，學習無國界」毒品遠離校園，建構安全防制網絡；整合高關懷青...\n",
       "8   接管率八年來從36%，至今超過90%，年底預計突破92萬戶未來積極提升下水道接管戶數，做到全...\n",
       "9   朝向全市「一里一銀髮俱樂部」的老人休閒據點為目標提供便利社區運動埸所，舉辦銀髮社區旅遊，加強...\n",
       "10  打造路網串聯周邊城市社區，漸進解決塞車問題在捷運尚未完工前，與里長、社區管委會合作，加強推廣...\n",
       "11  目前新北市已有13座運動中心正式投入營運持續完成林口、新店及五股3座運動中心以及瑞芳1座運動...\n",
       "12  鼓勵在地創生，農業、生態、觀光齊打拼，驅動農業創新引擎複製萬里蟹成功模式，加強行銷農漁產品鼓...\n",
       "13                          加強勞動檢查零工經濟協助方案擴大青年勞工參與式預算\n",
       "14  鼓勵發展結合環保、智能、綠色等微型或文創產業捷運都更釋放公益空間，作為青年創客工坊推動「自造...\n",
       "15  捷運沿線都更釋出公益回饋空間，讓社會住宅遍地開花，同步達成「捷運宅」效果視市府財政狀況，增加...\n",
       "16  杜絕醫療暴力，保障醫事人員安全執業增加長照據點，照顧好安心，健康又平等落實分級醫療，醫院、診...\n",
       "17  以綠能旅遊串連新北海岸線，打造成最美的海岸觀光休閒品牌用電動車、電動機車、鐵路等大眾運輸的接..."
      ]
     },
     "execution_count": 338,
     "metadata": {},
     "output_type": "execute_result"
    }
   ],
   "source": [
    "df2.columns = ['content']\n",
    "df2"
   ]
  },
  {
   "cell_type": "code",
   "execution_count": 339,
   "metadata": {
    "collapsed": true
   },
   "outputs": [],
   "source": [
    "df['content'] = df2['content']"
   ]
  },
  {
   "cell_type": "code",
   "execution_count": 340,
   "metadata": {},
   "outputs": [
    {
     "data": {
      "text/html": [
       "<div>\n",
       "<style>\n",
       "    .dataframe thead tr:only-child th {\n",
       "        text-align: right;\n",
       "    }\n",
       "\n",
       "    .dataframe thead th {\n",
       "        text-align: left;\n",
       "    }\n",
       "\n",
       "    .dataframe tbody tr th {\n",
       "        vertical-align: top;\n",
       "    }\n",
       "</style>\n",
       "<table border=\"1\" class=\"dataframe\">\n",
       "  <thead>\n",
       "    <tr style=\"text-align: right;\">\n",
       "      <th></th>\n",
       "      <th>title</th>\n",
       "      <th>content</th>\n",
       "    </tr>\n",
       "  </thead>\n",
       "  <tbody>\n",
       "    <tr>\n",
       "      <th>0</th>\n",
       "      <td>捷運蓋到哪裡 都更就做到哪裡</td>\n",
       "      <td>導入大眾運輸導向(TOD)概念，以捷運場站為節點，打造捷運生活核心圈，創造車站場域多元發展，...</td>\n",
       "    </tr>\n",
       "    <tr>\n",
       "      <th>1</th>\n",
       "      <td>顧面子 要裡子─行政區主幹道 沿線都更</td>\n",
       "      <td>透過「提升基準容積」，進而「拉高改建效能」，保障原有生活空間主幹道沿街面，凡是臨接基地與毗臨...</td>\n",
       "    </tr>\n",
       "    <tr>\n",
       "      <th>2</th>\n",
       "      <td>危老都更 當然是政府的事</td>\n",
       "      <td>政府主導、積極介入，確保市民遠離環境安全風險針對土壤液化、老舊危樓、道路狹窄等急迫區域優先進...</td>\n",
       "    </tr>\n",
       "    <tr>\n",
       "      <th>3</th>\n",
       "      <td>三環三線再升級</td>\n",
       "      <td>在三環三線基礎上，再推動五股泰山輕軌、深坑輕軌、淡海輕軌延伸八里工程機捷票價比照北捷，提高大...</td>\n",
       "    </tr>\n",
       "    <tr>\n",
       "      <th>4</th>\n",
       "      <td>永續環境—拒絕深澳燃煤電廠</td>\n",
       "      <td>能源政策建構在國民的健康之上鼓勵產業智慧節能轉型升級全力扶助節能產業發展</td>\n",
       "    </tr>\n",
       "    <tr>\n",
       "      <th>5</th>\n",
       "      <td>營養午餐更營養</td>\n",
       "      <td>自立午餐普及化，1天有機蔬菜＋4天產銷履歷蔬菜，讓學生吃得安心健康擴大有機農業契作，打開有機...</td>\n",
       "    </tr>\n",
       "    <tr>\n",
       "      <th>6</th>\n",
       "      <td>更多公托 安心托育</td>\n",
       "      <td>擴大公托規模，未來四年將倍增公共托育量提倡社區化托育持續推動公私立托育合作聯盟鼓勵企業自辦聯...</td>\n",
       "    </tr>\n",
       "    <tr>\n",
       "      <th>7</th>\n",
       "      <td>教育　讓下一代多元、好未來</td>\n",
       "      <td>升級校園網路環境，邁向「教室無邊界，學習無國界」毒品遠離校園，建構安全防制網絡；整合高關懷青...</td>\n",
       "    </tr>\n",
       "    <tr>\n",
       "      <th>8</th>\n",
       "      <td>全面推動污水下水道</td>\n",
       "      <td>接管率八年來從36%，至今超過90%，年底預計突破92萬戶未來積極提升下水道接管戶數，做到全...</td>\n",
       "    </tr>\n",
       "    <tr>\n",
       "      <th>9</th>\n",
       "      <td>打造高齡宜居城市</td>\n",
       "      <td>朝向全市「一里一銀髮俱樂部」的老人休閒據點為目標提供便利社區運動埸所，舉辦銀髮社區旅遊，加強...</td>\n",
       "    </tr>\n",
       "    <tr>\n",
       "      <th>10</th>\n",
       "      <td>提高公共運輸</td>\n",
       "      <td>打造路網串聯周邊城市社區，漸進解決塞車問題在捷運尚未完工前，與里長、社區管委會合作，加強推廣...</td>\n",
       "    </tr>\n",
       "    <tr>\n",
       "      <th>11</th>\n",
       "      <td>鼓勵全民運動</td>\n",
       "      <td>目前新北市已有13座運動中心正式投入營運持續完成林口、新店及五股3座運動中心以及瑞芳1座運動...</td>\n",
       "    </tr>\n",
       "    <tr>\n",
       "      <th>12</th>\n",
       "      <td>行銷農漁特產</td>\n",
       "      <td>鼓勵在地創生，農業、生態、觀光齊打拼，驅動農業創新引擎複製萬里蟹成功模式，加強行銷農漁產品鼓...</td>\n",
       "    </tr>\n",
       "    <tr>\n",
       "      <th>13</th>\n",
       "      <td>新北勞工我挺你</td>\n",
       "      <td>加強勞動檢查零工經濟協助方案擴大青年勞工參與式預算</td>\n",
       "    </tr>\n",
       "    <tr>\n",
       "      <th>14</th>\n",
       "      <td>青年創業 全力支持</td>\n",
       "      <td>鼓勵發展結合環保、智能、綠色等微型或文創產業捷運都更釋放公益空間，作為青年創客工坊推動「自造...</td>\n",
       "    </tr>\n",
       "    <tr>\n",
       "      <th>15</th>\n",
       "      <td>住得起的社會住宅</td>\n",
       "      <td>捷運沿線都更釋出公益回饋空間，讓社會住宅遍地開花，同步達成「捷運宅」效果視市府財政狀況，增加...</td>\n",
       "    </tr>\n",
       "    <tr>\n",
       "      <th>16</th>\n",
       "      <td>健康政見</td>\n",
       "      <td>杜絕醫療暴力，保障醫事人員安全執業增加長照據點，照顧好安心，健康又平等落實分級醫療，醫院、診...</td>\n",
       "    </tr>\n",
       "    <tr>\n",
       "      <th>17</th>\n",
       "      <td>青春山海線</td>\n",
       "      <td>以綠能旅遊串連新北海岸線，打造成最美的海岸觀光休閒品牌用電動車、電動機車、鐵路等大眾運輸的接...</td>\n",
       "    </tr>\n",
       "  </tbody>\n",
       "</table>\n",
       "</div>"
      ],
      "text/plain": [
       "                  title                                            content\n",
       "0        捷運蓋到哪裡 都更就做到哪裡  導入大眾運輸導向(TOD)概念，以捷運場站為節點，打造捷運生活核心圈，創造車站場域多元發展，...\n",
       "1   顧面子 要裡子─行政區主幹道 沿線都更  透過「提升基準容積」，進而「拉高改建效能」，保障原有生活空間主幹道沿街面，凡是臨接基地與毗臨...\n",
       "2          危老都更 當然是政府的事  政府主導、積極介入，確保市民遠離環境安全風險針對土壤液化、老舊危樓、道路狹窄等急迫區域優先進...\n",
       "3               三環三線再升級  在三環三線基礎上，再推動五股泰山輕軌、深坑輕軌、淡海輕軌延伸八里工程機捷票價比照北捷，提高大...\n",
       "4         永續環境—拒絕深澳燃煤電廠               能源政策建構在國民的健康之上鼓勵產業智慧節能轉型升級全力扶助節能產業發展\n",
       "5               營養午餐更營養  自立午餐普及化，1天有機蔬菜＋4天產銷履歷蔬菜，讓學生吃得安心健康擴大有機農業契作，打開有機...\n",
       "6             更多公托 安心托育  擴大公托規模，未來四年將倍增公共托育量提倡社區化托育持續推動公私立托育合作聯盟鼓勵企業自辦聯...\n",
       "7         教育　讓下一代多元、好未來  升級校園網路環境，邁向「教室無邊界，學習無國界」毒品遠離校園，建構安全防制網絡；整合高關懷青...\n",
       "8             全面推動污水下水道  接管率八年來從36%，至今超過90%，年底預計突破92萬戶未來積極提升下水道接管戶數，做到全...\n",
       "9              打造高齡宜居城市  朝向全市「一里一銀髮俱樂部」的老人休閒據點為目標提供便利社區運動埸所，舉辦銀髮社區旅遊，加強...\n",
       "10               提高公共運輸  打造路網串聯周邊城市社區，漸進解決塞車問題在捷運尚未完工前，與里長、社區管委會合作，加強推廣...\n",
       "11               鼓勵全民運動  目前新北市已有13座運動中心正式投入營運持續完成林口、新店及五股3座運動中心以及瑞芳1座運動...\n",
       "12               行銷農漁特產  鼓勵在地創生，農業、生態、觀光齊打拼，驅動農業創新引擎複製萬里蟹成功模式，加強行銷農漁產品鼓...\n",
       "13              新北勞工我挺你                          加強勞動檢查零工經濟協助方案擴大青年勞工參與式預算\n",
       "14            青年創業 全力支持  鼓勵發展結合環保、智能、綠色等微型或文創產業捷運都更釋放公益空間，作為青年創客工坊推動「自造...\n",
       "15             住得起的社會住宅  捷運沿線都更釋出公益回饋空間，讓社會住宅遍地開花，同步達成「捷運宅」效果視市府財政狀況，增加...\n",
       "16                 健康政見  杜絕醫療暴力，保障醫事人員安全執業增加長照據點，照顧好安心，健康又平等落實分級醫療，醫院、診...\n",
       "17                青春山海線  以綠能旅遊串連新北海岸線，打造成最美的海岸觀光休閒品牌用電動車、電動機車、鐵路等大眾運輸的接..."
      ]
     },
     "execution_count": 340,
     "metadata": {},
     "output_type": "execute_result"
    }
   ],
   "source": [
    "df"
   ]
  },
  {
   "cell_type": "code",
   "execution_count": 341,
   "metadata": {
    "collapsed": true
   },
   "outputs": [],
   "source": [
    "df.to_csv(\"kmt.csv\")"
   ]
  },
  {
   "cell_type": "code",
   "execution_count": 342,
   "metadata": {},
   "outputs": [
    {
     "name": "stdout",
     "output_type": "stream",
     "text": [
      "1415\n"
     ]
    }
   ],
   "source": [
    "a = 0\n",
    "for i in range(0, 18):\n",
    "    a += len(df['content'][i])\n",
    "print(a)"
   ]
  },
  {
   "cell_type": "markdown",
   "metadata": {},
   "source": [
    "# 蘇貞昌"
   ]
  },
  {
   "cell_type": "code",
   "execution_count": 218,
   "metadata": {},
   "outputs": [
    {
     "data": {
      "text/plain": [
       "'<!DOCTYPE html>\\n<html lang=\"zh-tw\">\\n<head>\\n<meta charset=\"utf-8\">\\n<meta http-equiv=\"X-UA-Compatible\" content=\"IE=edge\">\\n<meta http-equiv=\"Cache-Control\" content=\"no-store\">\\n<meta http-equiv=\"Pragma\" content=\"no-cache\">\\n<META http-equiv=\"EXPIRES\" content=\"0\">\\n<meta name=\"viewport\" content=\"width=device-width, initial-scale=1\">\\n<title>大學生安居政策 - 一千萬人的舞台 | 新新北 蘇貞昌</title>\\n<meta property=\"og:title\" content=\"大學生安居政策 - 一千萬人的舞台 | 新新北 蘇貞昌\" />\\n<meta property=\"og:type\" content=\"website\" />\\n<meta property=\"og:url\" content=\"https://newtaipei.run/webs/policy_content_44F3B6714A8928181921AEF558B6B61E.html\" />\\n<meta property=\"og:description\" content=\"營造優質的居住環境，才能增進學生的學習與發展\" />\\n<meta property=\"og:image\" content=\"https://newtaipei.run/upload/policy/5bbb275a88365.jpg\" />\\n\\n<link rel=\"Shortcut Icon\" type=\"image/x-icon\" href=\"https://newtaipei.run/contents/frontend/assets/images/favicon.ico\" />\\n\\n<link href=\"https://newtaipei.run/contents/frontend/fancybox/source/jquery.fancybox.css?v=2.1.5\" rel=\"stylesheet\" type=\"text/css\" media=\"screen\" />\\n<link href=\"https://newtaipei.run/contents/frontend/assets/css/releases/v5.0.7/css/all.css\" rel=\"stylesheet\">\\n<link href=\"https://newtaipei.run/contents/frontend/assets/css/bootstrap.css\" rel=\"stylesheet\">\\n<link href=\"https://newtaipei.run/contents/frontend/assets/css/swiper.min.css\" rel=\"stylesheet\">\\n\\n<link href=\"https://newtaipei.run/contents/frontend/assets/css/style.css\" rel=\"stylesheet\">\\n<link href=\"https://newtaipei.run/contents/frontend/assets/css/layout.css?1542707623\" rel=\"stylesheet\">\\n<link href=\"https://newtaipei.run/contents/frontend/assets/css/main.css\" rel=\"stylesheet\">\\n<link href=\"https://newtaipei.run/contents/frontend/assets/css/rwd.css\" rel=\"stylesheet\">\\n\\n<link rel=\"stylesheet\" href=\"https://newtaipei.run/contents/frontend/fancybox/source/jquery.fancybox.css?v=2.1.5\" type=\"text/css\" media=\"screen\" />\\n\\n<link href=\"https://newtaipei.run/contents/frontend/assets/css/a_style.css?1542707623\" rel=\"stylesheet\">\\n\\n<!--[if lt IE 9]>\\r\\n\\t      <script src=\"https://oss.maxcdn.com/html5shiv/3.7.2/html5shiv.min.js\"></script>\\r\\n\\t      <script src=\"https://oss.maxcdn.com/respond/1.4.2/respond.min.js\"></script>\\r\\n\\t<![endif]-->\\n\\n\\n<script>\\r\\n\\t\\t(function(w,d,s,l,i){w[l]=w[l]||[];w[l].push({\\'gtm.start\\':\\r\\n\\t\\tnew Date().getTime(),event:\\'gtm.js\\'});var f=d.getElementsByTagName(s)[0],\\r\\n\\t\\tj=d.createElement(s),dl=l!=\\'dataLayer\\'?\\'&l=\\'+l:\\'\\';j.async=true;j.src=\\r\\n\\t\\t\\'https://www.googletagmanager.com/gtm.js?id=\\'+i+dl;f.parentNode.insertBefore(j,f);\\r\\n\\t\\t})(window,document,\\'script\\',\\'dataLayer\\',\\'GTM-5MTGW34\\');\\r\\n\\t</script>\\n\\n</head>\\n<body>\\n\\n\\n<noscript>\\r\\n\\t\\t<iframe src=\"https://www.googletagmanager.com/ns.html?id=GTM-5MTGW34\" height=\"0\" width=\"0\" style=\"display:none;visibility:hidden\"></iframe>\\r\\n\\t</noscript>\\n\\n\\n<header>\\n\\n<a class=\"visible-xs mobile_btn\">\\n<i class=\"front_line\"></i>\\n<i class=\"middle_line\"></i>\\n<i class=\"back_line\"></i>\\n</a>\\n<aside class=\"logo\">\\n<a href=\"https://newtaipei.run/webs/home.html\" class=\"email\"><img src=\"https://newtaipei.run/contents/frontend/assets/images/logo.png\"></a>\\n</aside>\\n<nav class=\"mainNav\">\\n<ul class=\"inlineBlock\">\\n<li class=\"navPolicy active\">\\n<a href=\"https://newtaipei.run/webs/home.html\">一千萬人的舞台</a>\\n</li>\\n<li class=\"\">\\n<a href=\"https://newtaipei.run/webs/news.html\">新聞中心</a>\\n</li>\\n<li class=\"\">\\n<a href=\"https://newtaipei.run/webs/rumor.html\">謠言終結者</a>\\n</li>\\n\\n<li class=\"\">\\n<a href=\"https://newtaipei.run/webs/donate.html\">小額捐款</a>\\n</li>\\n</ul>\\n<ul class=\"inlineBlock socialNav\">\\n<li><a href=\"https://www.facebook.com/gogogoeball/\" target=\"_blank\"><img src=\"https://newtaipei.run/contents/frontend/assets/images/icon/fb-black.png\"></a></li>\\n<li><a href=\"https://www.instagram.com/eballgogogo/?hl=zh-tw\" target=\"_blank\"><img src=\"https://newtaipei.run/contents/frontend/assets/images/icon/ig-black.png\"></a></li>\\n<li><a href=\"https://page.line.me/eballgogogo\" target=\"_blank\"><img src=\"https://newtaipei.run/contents/frontend/assets/images/icon/line-black.png\"></a></li>\\n<li><a href=\"https://www.youtube.com/eballgogogo\" target=\"_blank\"><img src=\"https://newtaipei.run/contents/frontend/assets/images/icon/yu-black.png\"></a></li>\\n</ul>\\n</nav>\\n</header>\\n\\n<nav class=\"SubNav\">\\n<div class=\"container\">\\n<ul class=\"inlineBlock\">\\n<li>\\n<a href=\"https://newtaipei.run/webs/policy_366597E6F9A7C84A7C6F8548A6E6EE7D.html\">環形城市</a>\\n<ul>\\n<li>\\n<a href=\"https://newtaipei.run/webs/policy_content_B17738E7A4278E2C30E7F0F744C1EC9D.html\">支柱4+1</a>\\n</li>\\n<li>\\n<a href=\"https://newtaipei.run/webs/policy_content_F8732575D86E0B0DADCB225F90241399.html\">都市再生</a>\\n</li>\\n<li>\\n<a href=\"https://newtaipei.run/webs/policy_content_5788BEF098A150B675D5763C2ECD049A.html\">產業創生</a>\\n</li>\\n<li>\\n<a href=\"https://newtaipei.run/webs/policy_content_1E82E20582B5C0C48587AE5D3001A9CC.html\">智慧交通</a>\\n</li>\\n<li>\\n<a href=\"https://newtaipei.run/webs/policy_content_657B6D8C46C9B7FA25FD40835B209FC8.html\">扶老攜幼</a>\\n</li>\\n<li>\\n<a href=\"https://newtaipei.run/webs/policy_content_533B6E62B05AE9AF8653F41F7FBD1DB2.html\">城市美學與設計</a>\\n</li>\\n</ul>\\n</li>\\n<li>\\n<a href=\"https://newtaipei.run/webs/policy_8F114DDAAD7325368290C8534E0B40B2.html\">多元城市</a>\\n<ul>\\n<li>\\n<a href=\"https://newtaipei.run/webs/policy_content_6A2B5E1E2CF9DE51EB85A47F86BEDC60.html\">經濟發展政策</a>\\n</li>\\n<li>\\n<a href=\"https://newtaipei.run/webs/policy_content_80229BA4E6D6A25FF17D91BAD21FA0DE.html\">青年政策</a>\\n</li>\\n<li>\\n<a href=\"https://newtaipei.run/webs/policy_content_1A6F75832DBE83D09601B47C1FD0CCC9.html\">客家政策</a>\\n</li>\\n<li>\\n<a href=\"https://newtaipei.run/webs/policy_content_62392D7AD9391272B31AACCB9538E703.html\">原住民族政策</a>\\n</li>\\n<li>\\n<a href=\"https://newtaipei.run/webs/policy_content_F2F2DB9588796F91E6ECD42A53478CC2.html\">動保政策</a>\\n</li>\\n<li>\\n<a href=\"https://newtaipei.run/webs/policy_content_B659D8FBC00CC52E7E24033A0723ACE2.html\">新住民政策</a>\\n</li>\\n<li>\\n<a href=\"https://newtaipei.run/webs/policy_content_D7AF692DD45976E24DCF84E45B7C60C7.html\">韌性城市</a>\\n</li>\\n<li>\\n<a href=\"https://newtaipei.run/webs/policy_content_556991C76670206391EADBE42398CA25.html\">空氣汙染防制政策</a>\\n</li>\\n<li>\\n<a href=\"https://newtaipei.run/webs/policy_content_3035B472318AEB0BC117CC848A50461D.html\">能源政策</a>\\n</li>\\n<li>\\n<a href=\"https://newtaipei.run/webs/policy_content_F555E82E98C6B8476E21440C0393C2C4.html\">校園政策</a>\\n</li>\\n<li>\\n<a href=\"https://newtaipei.run/webs/policy_content_44F3B6714A8928181921AEF558B6B61E.html\">大學生安居政策</a>\\n</li>\\n<li>\\n<a href=\"https://newtaipei.run/webs/policy_content_B002AC18513C18E28E6B5633EB54FD7D.html\">勞工政策</a>\\n</li>\\n<li>\\n<a href=\"https://newtaipei.run/webs/policy_content_8BDAF272054B4B2CFFFB7DCE07ACD56B.html\">新北126計畫</a>\\n</li>\\n<li>\\n<a href=\"https://newtaipei.run/webs/policy_content_DB4C21744F721A63D61CC75621DBF021.html\">住宅政策</a>\\n</li>\\n<li>\\n<a href=\"https://newtaipei.run/webs/policy_content_A77BAF0D6874F90710B59E45ECD8D4DE.html\">體育政策</a>\\n</li>\\n<li>\\n<a href=\"https://newtaipei.run/webs/policy_content_D7A85A0EA3CECCA36648536B7789EA5B.html\">婦女政策</a>\\n</li>\\n<li>\\n<a href=\"https://newtaipei.run/webs/policy_content_933853C9F548DDD9BBDDCD26EF116061.html\">垃圾清運政策</a>\\n</li>\\n<li>\\n<a href=\"https://newtaipei.run/webs/policy_content_156856E52746BEFA2EF3B40C86880489.html\">托育政策</a>\\n</li>\\n<li>\\n<a href=\"https://newtaipei.run/webs/policy_content_86C3A535864AF74F012EC9734268F647.html\">扶老政策</a>\\n</li>\\n<li>\\n<a href=\"https://newtaipei.run/webs/policy_content_6CFE9B95EFECAB0E7AC85E8039735092.html\">Kebijakan Imigran Baru</a>\\n</li>\\n<li>\\n<a href=\"https://newtaipei.run/webs/policy_content_6A3ABEE1A3638934A693BC1115412408.html\">親子體驗博物館</a>\\n</li>\\n<li>\\n<a href=\"https://newtaipei.run/webs/policy_content_71DE76353ED0300A11AC97C9C0DEF69B.html\">大匠國際博覽會</a>\\n</li>\\n</ul>\\n</li>\\n<li>\\n<a href=\"https://newtaipei.run/webs/policy_314C0602EC20E431B6BDA985F9E102F5.html\">產業之旅</a>\\n<ul>\\n<li>\\n<a href=\"https://newtaipei.run/webs/policy_content_93BBF66612CA7B688E276D4FB8BC5543.html\">世界紡織廊帶</a>\\n</li>\\n<li>\\n<a href=\"https://newtaipei.run/webs/policy_content_6736B396D411B22D457D2939B5D1AC8A.html\">坪林白青長茶</a>\\n</li>\\n<li>\\n<a href=\"https://newtaipei.run/webs/policy_content_A0F21B8FABBADC66F31704CA10F7EE13.html\">三重黑色聚落</a>\\n</li>\\n<li>\\n<a href=\"https://newtaipei.run/webs/policy_content_E60C9DF449C059616AF608BDA085628F.html\">鶯歌文藝復興</a>\\n</li>\\n</ul>\\n</li>\\n<li>\\n<a href=\"https://newtaipei.run/webs/policy_5B577930EC470621B1BB86FB8F72547F.html\">市政體檢</a>\\n<ul>\\n<li>\\n<a href=\"https://newtaipei.run/webs/policy_content_429AF65414FE923248C2BEFCD9AE8E25.html\">富基漁港</a>\\n</li>\\n<li>\\n<a href=\"https://newtaipei.run/webs/policy_content_31B101AFAA9BE4BD8D4D3B9D735919DC.html\">金山青年活動中心</a>\\n</li>\\n<li>\\n<a href=\"https://newtaipei.run/webs/policy_content_F40BBF6C3B6E2B435D7AA65DEE42C0D7.html\">新店大樹之家</a>\\n</li>\\n<li>\\n<a href=\"https://newtaipei.run/webs/policy_content_0B2CC9047E641B54D7C53DBC325E5CDE.html\">板橋435藝文特區</a>\\n</li>\\n<li>\\n<a href=\"https://newtaipei.run/webs/policy_content_8C796E4E188BCA638E28B66454C03ECB.html\">湳仔溝</a>\\n</li>\\n<li>\\n<a href=\"https://newtaipei.run/webs/policy_content_994E4B5B029550BBBAAAA84A91090EC8.html\">大漢溪左岸</a>\\n</li>\\n</ul>\\n</li>\\n<li>\\n<a href=\"https://newtaipei.run/webs/policy_F9A89BB291A02E6BAD0AEE866E89FC9D.html\">還好有蘇貞昌</a>\\n<ul>\\n<li>\\n<a href=\"https://newtaipei.run/webs/policy_content_14D9639C9314D323F35234246A7F494A.html\">一起，找回家的路</a>\\n</li>\\n<li>\\n<a href=\"https://newtaipei.run/webs/policy_content_0E63730F0BC504CBF200FCF0CCC65341.html\">鶯歌文藝復興</a>\\n</li>\\n<li>\\n<a href=\"https://newtaipei.run/webs/policy_content_973D9EF918E30C0563B04D16E5E7FD95.html\">團結，成功對抗失控戰疫</a>\\n</li>\\n<li>\\n<a href=\"https://newtaipei.run/webs/policy_content_553D82FC2FE532CF76A7C364D3CB8CF1.html\">永遠的搖滾魂 海洋音樂祭</a>\\n</li>\\n<li>\\n<a href=\"https://newtaipei.run/webs/policy_content_DFA185B5DA5192EFE69D9640DDA9D854.html\">守護，每個來到新北的孩子</a>\\n</li>\\n</ul>\\n</li>\\n</ul>\\n</div>\\n</nav>\\n\\n<div class=\"block\"></div>\\n\\n<a href=\"#\" class=\"btn-more-content\">\\n<h5>繼續閱讀</h5>\\n<aside><img src=\"https://newtaipei.run/contents/frontend/assets/images/icon/more.png\"></aside>\\n</a>\\n\\n<main class=\"wrapper\">\\n\\n<section class=\"indexIntro\">\\n<figure class=\"display-table\">\\n<article class=\"videoCover\" style=\"background-image:url(https://newtaipei.run/upload/policy/5bbb275a88365.jpg)\"></article>\\n<article class=\"intro\">\\n<h2>大學生安居政策</h2>\\n<p>\\n營造優質的居住環境，才能增進學生的學習與發展 </p>\\n<aside>\\n<img src=\"https://newtaipei.run/contents/frontend/assets/images/icon/0.png\">\\n</aside>\\n</article>\\n</figure>\\n</section>\\n\\n<section class=\"indexPolicy linkRight\">\\n<div class=\"container\">\\n<h1>新北市大學青年安心居住計畫</h1>\\n<p>\\n<p>新北市有22所大專院校，學生人數超過15萬人，<br />\\n許多孩子離鄉背井到新北市念書，<br />\\n就像我當年也是隻身從屏東北上讀書，<br />\\n所以大學生的住宿問題，<br />\\n我感同身受。</p>\\n<p>大學生在學校，<br />\\n會面對校園生活、課程學習和自我發展等課題，<br />\\n學校應該提供學生良好的環境，<br />\\n協助他們探索更深、更廣的知識領域，並學習多元價值。</p>\\n<p>我認為，沒有解決不了的問題，<br />\\n只看有沒有找對方法，<br />\\n因此未來如果我當選新北市長，<br />\\n一定積極協助改善大學生住宿問題。</p>\\n</p>\\n</div>\\n</section>\\n\\n<section class=\"indexCreate\">\\n<div class=\"container\">\\n<h1>「大學生安居政策」<br>具體作法</h1>\\n<div class=\"tags\">\\n<a href=\"javascript:;\" class=\"tagLink method\" ids=\\'361A8CC3586492784CE15FFD6A76C98A\\'>興建聯合宿舍</a>\\n<a href=\"javascript:;\" class=\"tagLink method\" ids=\\'5BD770E75D042888BAEB89DFAAECEB01\\'>提供申請住宅</a>\\n<a href=\"javascript:;\" class=\"tagLink method\" ids=\\'7233C715232C59E660C9256F34BBA48F\\'>試辦包租代管</a>\\n</div>\\n</div>\\n\\n<figure class=\"display-table method_list\" id=\"361A8CC3586492784CE15FFD6A76C98A\">\\n<article class=\"videoCover a_style_cover\">\\n<img style=\"width: 100%\" src=\"https://newtaipei.run/upload/method/5bbb28ae6881f.jpg\">\\n</article>\\n<article class=\"intro\">\\n<h2>在大學密集區域，興建新北大學生聯合宿舍</h2>\\n<p>在大專院校密集地區，選擇區位適宜、交通便利的國、公有土地，以無償撥用或長期租用方式，供興辦大學生聯合宿舍使用。</p>\\n<p>聯合宿舍將定位為大專院校社會住宅，適用社會住宅興辦規定。我會與大專院校及教育部三方合作或招商興辦經營，並且以學生人數、學校提供的宿舍相關資訊作為基礎，評估興建的戶數與合作方案。</p> </article>\\n</figure>\\n<figure class=\"display-table method_list\" id=\"5BD770E75D042888BAEB89DFAAECEB01\">\\n<article class=\"videoCover a_style_cover\">\\n<img style=\"width: 100%\" src=\"https://newtaipei.run/upload/method/5bbb28890e54e.jpg\">\\n</article>\\n<article class=\"intro\">\\n<h2>非密集區域，提供社會住宅申請</h2>\\n<p>在非大學密集區域，盤點交通便利的新北市社會住宅，提供固定比例戶數，讓新北市的大專院校學生申請，租金標準及相關措施將依據住宅法相關規範。</p> </article>\\n</figure>\\n<figure class=\"display-table method_list\" id=\"7233C715232C59E660C9256F34BBA48F\">\\n<article class=\"videoCover a_style_cover\">\\n<img style=\"width: 100%\" src=\"https://newtaipei.run/upload/method/5bbb285101e81.jpg\">\\n</article>\\n<article class=\"intro\">\\n<h2>試辦包租代管的「大學生租屋」專案</h2>\\n<p>仿效「包租代管」方式，我將與包租代管業者、大專院校校方合作，試辦包租代管「大學生租屋」專案，藉由稅賦減免、租金保障等措施，篩選出大專院校周邊價格與品質合理的住宅，透過包租代管業者媒合、提供給有住宿需求的大學生，讓校外住宿的學生，也能擁有好品質的居住空間。</p>\\n</article>\\n</figure>\\n<hr>\\n</section>\\n</main>\\n\\n\\n<section class=\"navTag\">\\n<div class=\"container\">\\n<nav>\\n<ul class=\"inlineBlock\">\\n<li>\\n<a class=\"tagLink \" href=\"https://newtaipei.run/webs/policy_366597E6F9A7C84A7C6F8548A6E6EE7D.html\">環形城市</a>\\n</li>\\n<li>\\n<a class=\"tagLink active\" href=\"https://newtaipei.run/webs/policy_8F114DDAAD7325368290C8534E0B40B2.html\">多元城市</a>\\n</li>\\n<li>\\n<a class=\"tagLink \" href=\"https://newtaipei.run/webs/policy_314C0602EC20E431B6BDA985F9E102F5.html\">產業之旅</a>\\n</li>\\n<li>\\n<a class=\"tagLink \" href=\"https://newtaipei.run/webs/policy_5B577930EC470621B1BB86FB8F72547F.html\">市政體檢</a>\\n</li>\\n<li>\\n<a class=\"tagLink \" href=\"https://newtaipei.run/webs/policy_F9A89BB291A02E6BAD0AEE866E89FC9D.html\">還好有蘇貞昌</a>\\n</li>\\n</ul>\\n</nav>\\n</div>\\n</section>\\n\\n<section class=\"orederEdm\">\\n<div class=\"container\">\\n<form action=\"https://newtaipei.run/ajax_form/subscription_policy\" id=\"subscription_policy\" method=\"post\" accept-charset=\"utf-8\">\\n<h1>訂閱最新政策訊息</h1>\\n<input type=\"text\" name=\"email\" id=\"subscription_email\" placeholder=\"請填入您的電子郵件信箱\">\\n<button type=\"button\" id=\"subscription\">訂閱</button>\\n<p>Or just email to <a href=\"/cdn-cgi/l/email-protection#a4cdcac2cbe4cac1d3d0c5cdd4c1cd8ad6d1ca\"><span class=\"__cf_email__\" data-cfemail=\"afc6c1c9c0efc1cad8dbcec6dfcac681dddac1\">[email&#160;protected]</span></a></p>\\n</form>\\n</div>\\n</section>\\n\\n<footer>\\n<div class=\"container\">\\n<aside><img src=\"https://newtaipei.run/contents/frontend/assets/images/logo-green.png\"></aside>\\n<p>\\n版權所有 | 蘇貞昌競選新北市長辦公室<br class=\"visible-xs\"><span class=\"hidden-xs\" style=\"margin-right: 1.5em;\"></span>\\n地址 | 新北市板橋區縣民大道二段3號8樓<br class=\"visible-xs\"><span class=\"hidden-xs\" style=\"margin-right: 1.5em;\"></span>\\n代表號 | 02-8979-8122\\n</p>\\n</div>\\n</footer>\\n<script data-cfasync=\"false\" src=\"/cdn-cgi/scripts/5c5dd728/cloudflare-static/email-decode.min.js\"></script><script src=\"https://newtaipei.run/contents/frontend/js/jquery-1.11.2.min.js\"></script>\\n<script src=\"https://newtaipei.run/contents/frontend/js/jquery.form.min.js\" type=\"text/javascript\"></script>\\n<script src=\"https://newtaipei.run/contents/frontend/js/bootstrap.js\"></script>\\n<script src=\"https://newtaipei.run/contents/frontend/js/url.min.js\"></script>\\n<script src=\"https://newtaipei.run/contents/frontend/js/jquery.parallax.js\"></script>\\n<script src=\"https://newtaipei.run/contents/frontend/assets/js/swiper.min.js\"></script>\\n\\n<script src=\"https://newtaipei.run/contents/frontend/js/TweenMax.min.js\"></script>\\n<script src=\"https://newtaipei.run/contents/frontend/js/jquery.superscrollorama.js\"></script>\\n<script src=\"https://newtaipei.run/contents/frontend/js/jquery.mousewheel.js\"></script>\\n<script src=\"https://newtaipei.run/contents/frontend/js/jquery.transit.min.js?1542707623\"></script>\\n\\n<script type=\"text/javascript\" src=\"https://newtaipei.run/contents/frontend/fancybox/lib/jquery.mousewheel-3.0.6.pack.js\"></script>\\n<script type=\"text/javascript\" src=\"https://newtaipei.run/contents/frontend/fancybox/source/jquery.fancybox.pack.js?v=2.1.5\"></script>\\n\\n<script src=\"https://newtaipei.run/contents/frontend/assets/js/animate.js?1542707623\"></script>\\n<script src=\"https://newtaipei.run/contents/frontend/assets/js/movie.js\"></script>\\n\\n<script src=\"https://newtaipei.run/contents/frontend/js/clipboard.min.js\" type=\"text/javascript\"></script>\\n<script>\\r\\n\\t\\t$().ready(function(){\\r\\n\\t\\t\\t\\t\\t\\t\\r\\n\\t\\t\\t// 送出資料驗證\\r\\n\\t\\t\\t$(\"#subscription\").click(function(){\\r\\n\\t\\t\\t\\tif(!$(\"#subscription_email\").val()){\\r\\n\\t\\t\\t\\t\\talert(\\'請輸入eMail\\');\\r\\n\\t\\t\\t\\t} else if(!chkemail($(\"#subscription_email\").val())){\\r\\n\\t\\t\\t\\t\\talert(\\'eMail格式錯誤，請重新確認\\');\\r\\n\\t\\t\\t\\t} else {\\r\\n\\t\\t\\t\\t\\t$(\\'#subscription_policy\\').ajaxForm({error:showError,success:showResponse_footer,dataType:\\'json\\',timeout:30000}).submit();\\r\\n\\t\\t\\t\\t}\\r\\n\\t\\t\\t});\\r\\n\\t\\t\\tfunction showResponse_footer(result, statusText){\\r\\n\\t\\t\\t\\tif(result[\\'result\\'] == 0){\\r\\n\\t\\t\\t\\t\\talert(result[\\'err\\']);\\r\\n\\t\\t\\t\\t}else if(result[\\'result\\'] == 1){\\r\\n\\t\\t\\t\\t\\talert(result[\\'message\\']);\\r\\n\\t\\t\\t\\t\\t$(\"#subscription_email\").val(\\'\\');\\r\\n\\t\\t\\t\\t}\\r\\n\\t\\t\\t};\\r\\n\\t\\t\\t// 送出資料驗證 End\\r\\n\\t\\t\\t\\r\\n\\t\\t\\tfunction showError(result, statusText){\\r\\n\\t\\t\\t\\tif(result){\\r\\n\\t\\t\\t\\t\\talert(statusText);\\r\\n\\t\\t\\t\\t\\twindow.location.reload();\\r\\n\\t\\t\\t\\t}\\r\\n\\t\\t\\t}\\r\\n\\t\\t})\\r\\n\\t\\t\\r\\n\\t\\t// FB分享\\r\\n\\t\\twindow.fbAsyncInit = function() {\\r\\n\\t\\t\\tFB.init({\\r\\n\\t\\t\\t\\tappId      : \\'248784119244454\\',\\r\\n\\t\\t\\t\\txfbml      : true,\\r\\n\\t\\t\\t\\tversion    : \\'v3.0\\'\\r\\n\\t\\t\\t});\\r\\n\\t\\t\\tFB.AppEvents.logPageView();\\r\\n\\t\\t};\\r\\n\\t\\t(function(d, s, id){\\r\\n\\t\\t\\tvar js, fjs = d.getElementsByTagName(s)[0];\\r\\n\\t\\t\\tif (d.getElementById(id)) {return;}\\r\\n\\t\\t\\tjs = d.createElement(s); js.id = id;\\r\\n\\t\\t\\tjs.src = \"//connect.facebook.net/en_US/sdk.js\";\\r\\n\\t\\t\\tfjs.parentNode.insertBefore(js, fjs);\\r\\n\\t\\t}(document, \\'script\\', \\'facebook-jssdk\\'));\\r\\n\\t\\t\\r\\n\\t\\t$(\".fb_share\").click(function(){\\r\\n\\t\\t\\tfb_share();\\r\\n\\t\\t})\\r\\n\\t\\t\\r\\n\\t\\tfunction fb_share()\\r\\n\\t\\t{\\r\\n\\t\\t\\tFB.ui(\\r\\n\\t\\t\\t{\\r\\n\\t\\t\\t\\tmethod: \\'share\\',\\r\\n\\t\\t\\t\\thref: \\'https://newtaipei.run/webs/policy_content_44F3B6714A8928181921AEF558B6B61E.html\\'\\r\\n\\t\\t\\t}, function(response){});\\r\\n\\t\\t}\\r\\n\\t\\t// FB分享 End\\r\\n\\t\\tfunction chkemail(strEmail) {\\r\\n\\t\\t\\tif (strEmail.search(/^\\\\w+((-\\\\w+)|(\\\\.\\\\w+))*\\\\@[A-Za-z0-9]+((\\\\.|-)[A-Za-z0-9]+)*\\\\.[A-Za-z]+$/)!= -1)\\r\\n\\t\\t\\t\\treturn true;\\r\\n\\t\\t\\telse\\r\\n\\t\\t\\t\\treturn false;\\r\\n\\t\\t}\\r\\n\\t</script> <script>\\r\\n\\t\\t$(function(){\\r\\n\\t\\t\\t/*這邊是JS,到時可以移除*/\\r\\n// \\t\\t\\tcategoryCreate(\\'.temList\\',6,true);\\r\\n// \\t\\t\\tcategoryCreate(\\'#scheduleSwiper .swiper-wrapper\\',8,false);\\r\\n\\t\\t\\tswiperStartArticle(\\'#scheduleSwiper\\',2000);\\r\\n// \\t\\t\\tvideoBox();\\r\\n\\t\\t\\t\\r\\n\\t\\t\\tindexMoving();\\r\\n\\t\\t\\t\\r\\n\\t\\t\\t$(\".method\").eq(0).addClass(\\'active\\');\\r\\n\\t\\t\\t$(\".method_list\").hide();\\r\\n\\t\\t\\t$(\".method_list\").eq(0).show();\\r\\n\\t\\t\\t\\r\\n\\t\\t\\t$(\".method\").click(function(){\\r\\n\\t\\t\\t\\t$(\".method\").removeClass(\\'active\\');\\r\\n\\t\\t\\t\\t$(this).addClass(\\'active\\');\\r\\n\\t\\t\\t\\t$(\".method_list\").hide();\\r\\n\\t\\t\\t\\t$(\"#\"+$(this).attr(\\'ids\\')).show();\\r\\n\\t\\t\\t})\\r\\n\\t\\t\\t\\r\\n\\t\\t\\t//繼續閱讀\\r\\n\\t\\t    moreAnimated();\\r\\n\\t\\t    $(window).on(\\'scroll\\',btnMoreShow);\\r\\n\\t\\t});\\r\\n\\t</script>\\n</body>\\n</html>'"
      ]
     },
     "execution_count": 218,
     "metadata": {},
     "output_type": "execute_result"
    }
   ],
   "source": [
    "url = \"https://newtaipei.run/webs/policy_content_44F3B6714A8928181921AEF558B6B61E.html\"\n",
    "res2 = requests.get(url)\n",
    "res2.text"
   ]
  },
  {
   "cell_type": "code",
   "execution_count": 107,
   "metadata": {},
   "outputs": [],
   "source": [
    "title2 = [\"支柱4+1\", \"都市再生\", \"產業創生\", \"智慧交通\", \"扶老攜幼\", \"城市美學與設計\", \"經濟發展政策\", \"青年政策\", \"客家政策\", \"原住民族政策\", \"動保政策\", \"新住民政策\", \"韌性城市\", \"空氣汙染防制政策\", \"能源政策\", \"校園政策\", \"大學生安居政策\", \"勞工政策\", \"新北126計畫\", \"住宅政策\", \"體育政策\", \"婦女政策\", \"垃圾清運政策\", \"托育政策\", \"扶老政策\", \"親子體驗博物館\", \"大匠國際博覽會\"]"
   ]
  },
  {
   "cell_type": "code",
   "execution_count": 7,
   "metadata": {},
   "outputs": [
    {
     "data": {
      "text/plain": [
       "['支柱4+1',\n",
       " '都市再生',\n",
       " '產業創生',\n",
       " '智慧交通',\n",
       " '扶老攜幼',\n",
       " '城市美學與設計',\n",
       " '經濟發展政策',\n",
       " '青年政策',\n",
       " '客家政策',\n",
       " '原住民族政策',\n",
       " '動保政策',\n",
       " '新住民政策',\n",
       " '韌性城市',\n",
       " '空氣汙染防制政策',\n",
       " '能源政策',\n",
       " '校園政策',\n",
       " '大學生安居政策',\n",
       " '勞工政策',\n",
       " '新北126計畫',\n",
       " '住宅政策',\n",
       " '體育政策',\n",
       " '婦女政策',\n",
       " '垃圾清運政策',\n",
       " '托育政策',\n",
       " '扶老政策',\n",
       " '親子體驗博物館',\n",
       " '大匠國際博覽會']"
      ]
     },
     "execution_count": 7,
     "metadata": {},
     "output_type": "execute_result"
    }
   ],
   "source": [
    "title2"
   ]
  },
  {
   "cell_type": "code",
   "execution_count": 10,
   "metadata": {
    "collapsed": true
   },
   "outputs": [],
   "source": [
    "dpp_df = DataFrame(title2) "
   ]
  },
  {
   "cell_type": "code",
   "execution_count": 12,
   "metadata": {},
   "outputs": [],
   "source": [
    "dpp_df.columns = [\"title\"]"
   ]
  },
  {
   "cell_type": "code",
   "execution_count": 13,
   "metadata": {},
   "outputs": [
    {
     "data": {
      "text/html": [
       "<div>\n",
       "<style>\n",
       "    .dataframe thead tr:only-child th {\n",
       "        text-align: right;\n",
       "    }\n",
       "\n",
       "    .dataframe thead th {\n",
       "        text-align: left;\n",
       "    }\n",
       "\n",
       "    .dataframe tbody tr th {\n",
       "        vertical-align: top;\n",
       "    }\n",
       "</style>\n",
       "<table border=\"1\" class=\"dataframe\">\n",
       "  <thead>\n",
       "    <tr style=\"text-align: right;\">\n",
       "      <th></th>\n",
       "      <th>title</th>\n",
       "    </tr>\n",
       "  </thead>\n",
       "  <tbody>\n",
       "    <tr>\n",
       "      <th>0</th>\n",
       "      <td>支柱4+1</td>\n",
       "    </tr>\n",
       "    <tr>\n",
       "      <th>1</th>\n",
       "      <td>都市再生</td>\n",
       "    </tr>\n",
       "    <tr>\n",
       "      <th>2</th>\n",
       "      <td>產業創生</td>\n",
       "    </tr>\n",
       "    <tr>\n",
       "      <th>3</th>\n",
       "      <td>智慧交通</td>\n",
       "    </tr>\n",
       "    <tr>\n",
       "      <th>4</th>\n",
       "      <td>扶老攜幼</td>\n",
       "    </tr>\n",
       "    <tr>\n",
       "      <th>5</th>\n",
       "      <td>城市美學與設計</td>\n",
       "    </tr>\n",
       "    <tr>\n",
       "      <th>6</th>\n",
       "      <td>經濟發展政策</td>\n",
       "    </tr>\n",
       "    <tr>\n",
       "      <th>7</th>\n",
       "      <td>青年政策</td>\n",
       "    </tr>\n",
       "    <tr>\n",
       "      <th>8</th>\n",
       "      <td>客家政策</td>\n",
       "    </tr>\n",
       "    <tr>\n",
       "      <th>9</th>\n",
       "      <td>原住民族政策</td>\n",
       "    </tr>\n",
       "    <tr>\n",
       "      <th>10</th>\n",
       "      <td>動保政策</td>\n",
       "    </tr>\n",
       "    <tr>\n",
       "      <th>11</th>\n",
       "      <td>新住民政策</td>\n",
       "    </tr>\n",
       "    <tr>\n",
       "      <th>12</th>\n",
       "      <td>韌性城市</td>\n",
       "    </tr>\n",
       "    <tr>\n",
       "      <th>13</th>\n",
       "      <td>空氣汙染防制政策</td>\n",
       "    </tr>\n",
       "    <tr>\n",
       "      <th>14</th>\n",
       "      <td>能源政策</td>\n",
       "    </tr>\n",
       "    <tr>\n",
       "      <th>15</th>\n",
       "      <td>校園政策</td>\n",
       "    </tr>\n",
       "    <tr>\n",
       "      <th>16</th>\n",
       "      <td>大學生安居政策</td>\n",
       "    </tr>\n",
       "    <tr>\n",
       "      <th>17</th>\n",
       "      <td>勞工政策</td>\n",
       "    </tr>\n",
       "    <tr>\n",
       "      <th>18</th>\n",
       "      <td>新北126計畫</td>\n",
       "    </tr>\n",
       "    <tr>\n",
       "      <th>19</th>\n",
       "      <td>住宅政策</td>\n",
       "    </tr>\n",
       "    <tr>\n",
       "      <th>20</th>\n",
       "      <td>體育政策</td>\n",
       "    </tr>\n",
       "    <tr>\n",
       "      <th>21</th>\n",
       "      <td>婦女政策</td>\n",
       "    </tr>\n",
       "    <tr>\n",
       "      <th>22</th>\n",
       "      <td>垃圾清運政策</td>\n",
       "    </tr>\n",
       "    <tr>\n",
       "      <th>23</th>\n",
       "      <td>托育政策</td>\n",
       "    </tr>\n",
       "    <tr>\n",
       "      <th>24</th>\n",
       "      <td>扶老政策</td>\n",
       "    </tr>\n",
       "    <tr>\n",
       "      <th>25</th>\n",
       "      <td>親子體驗博物館</td>\n",
       "    </tr>\n",
       "    <tr>\n",
       "      <th>26</th>\n",
       "      <td>大匠國際博覽會</td>\n",
       "    </tr>\n",
       "  </tbody>\n",
       "</table>\n",
       "</div>"
      ],
      "text/plain": [
       "       title\n",
       "0      支柱4+1\n",
       "1       都市再生\n",
       "2       產業創生\n",
       "3       智慧交通\n",
       "4       扶老攜幼\n",
       "5    城市美學與設計\n",
       "6     經濟發展政策\n",
       "7       青年政策\n",
       "8       客家政策\n",
       "9     原住民族政策\n",
       "10      動保政策\n",
       "11     新住民政策\n",
       "12      韌性城市\n",
       "13  空氣汙染防制政策\n",
       "14      能源政策\n",
       "15      校園政策\n",
       "16   大學生安居政策\n",
       "17      勞工政策\n",
       "18   新北126計畫\n",
       "19      住宅政策\n",
       "20      體育政策\n",
       "21      婦女政策\n",
       "22    垃圾清運政策\n",
       "23      托育政策\n",
       "24      扶老政策\n",
       "25   親子體驗博物館\n",
       "26   大匠國際博覽會"
      ]
     },
     "execution_count": 13,
     "metadata": {},
     "output_type": "execute_result"
    }
   ],
   "source": [
    "dpp_df"
   ]
  },
  {
   "cell_type": "code",
   "execution_count": 314,
   "metadata": {},
   "outputs": [
    {
     "data": {
      "text/plain": [
       "'<!DOCTYPE html>\\n<html lang=\"zh-tw\">\\n<head>\\n<meta charset=\"utf-8\">\\n<meta http-equiv=\"X-UA-Compatible\" content=\"IE=edge\">\\n<meta http-equiv=\"Cache-Control\" content=\"no-store\">\\n<meta http-equiv=\"Pragma\" content=\"no-cache\">\\n<META http-equiv=\"EXPIRES\" content=\"0\">\\n<meta name=\"viewport\" content=\"width=device-width, initial-scale=1\">\\n<title>大匠國際博覽會 - 一千萬人的舞台 | 新新北 蘇貞昌</title>\\n<meta property=\"og:title\" content=\"大匠國際博覽會 - 一千萬人的舞台 | 新新北 蘇貞昌\" />\\n<meta property=\"og:type\" content=\"website\" />\\n<meta property=\"og:url\" content=\"https://newtaipei.run/webs/policy_content_71DE76353ED0300A11AC97C9C0DEF69B.html\" />\\n<meta property=\"og:description\" content=\"我要在鶯歌工藝城舉辦一個國際盛會 ，結合在地文化、匠人藝術與國際觀光，讓台灣的大匠走向世界，也讓世界來到新北。\" />\\n<meta property=\"og:image\" content=\"https://newtaipei.run/contents/frontend/assets/images/NTC.jpg\" />\\n\\n<link rel=\"Shortcut Icon\" type=\"image/x-icon\" href=\"https://newtaipei.run/contents/frontend/assets/images/favicon.ico\" />\\n\\n<link href=\"https://newtaipei.run/contents/frontend/fancybox/source/jquery.fancybox.css?v=2.1.5\" rel=\"stylesheet\" type=\"text/css\" media=\"screen\" />\\n<link href=\"https://newtaipei.run/contents/frontend/assets/css/releases/v5.0.7/css/all.css\" rel=\"stylesheet\">\\n<link href=\"https://newtaipei.run/contents/frontend/assets/css/bootstrap.css\" rel=\"stylesheet\">\\n<link href=\"https://newtaipei.run/contents/frontend/assets/css/swiper.min.css\" rel=\"stylesheet\">\\n\\n<link href=\"https://newtaipei.run/contents/frontend/assets/css/style.css\" rel=\"stylesheet\">\\n<link href=\"https://newtaipei.run/contents/frontend/assets/css/layout.css?1542707623\" rel=\"stylesheet\">\\n<link href=\"https://newtaipei.run/contents/frontend/assets/css/main.css\" rel=\"stylesheet\">\\n<link href=\"https://newtaipei.run/contents/frontend/assets/css/rwd.css\" rel=\"stylesheet\">\\n\\n<link rel=\"stylesheet\" href=\"https://newtaipei.run/contents/frontend/fancybox/source/jquery.fancybox.css?v=2.1.5\" type=\"text/css\" media=\"screen\" />\\n\\n<link href=\"https://newtaipei.run/contents/frontend/assets/css/a_style.css?1542707623\" rel=\"stylesheet\">\\n\\n<!--[if lt IE 9]>\\r\\n\\t      <script src=\"https://oss.maxcdn.com/html5shiv/3.7.2/html5shiv.min.js\"></script>\\r\\n\\t      <script src=\"https://oss.maxcdn.com/respond/1.4.2/respond.min.js\"></script>\\r\\n\\t<![endif]-->\\n\\n\\n<script>\\r\\n\\t\\t(function(w,d,s,l,i){w[l]=w[l]||[];w[l].push({\\'gtm.start\\':\\r\\n\\t\\tnew Date().getTime(),event:\\'gtm.js\\'});var f=d.getElementsByTagName(s)[0],\\r\\n\\t\\tj=d.createElement(s),dl=l!=\\'dataLayer\\'?\\'&l=\\'+l:\\'\\';j.async=true;j.src=\\r\\n\\t\\t\\'https://www.googletagmanager.com/gtm.js?id=\\'+i+dl;f.parentNode.insertBefore(j,f);\\r\\n\\t\\t})(window,document,\\'script\\',\\'dataLayer\\',\\'GTM-5MTGW34\\');\\r\\n\\t</script>\\n\\n</head>\\n<body>\\n\\n\\n<noscript>\\r\\n\\t\\t<iframe src=\"https://www.googletagmanager.com/ns.html?id=GTM-5MTGW34\" height=\"0\" width=\"0\" style=\"display:none;visibility:hidden\"></iframe>\\r\\n\\t</noscript>\\n\\n\\n<header>\\n\\n<a class=\"visible-xs mobile_btn\">\\n<i class=\"front_line\"></i>\\n<i class=\"middle_line\"></i>\\n<i class=\"back_line\"></i>\\n</a>\\n<aside class=\"logo\">\\n<a href=\"https://newtaipei.run/webs/home.html\" class=\"email\"><img src=\"https://newtaipei.run/contents/frontend/assets/images/logo.png\"></a>\\n</aside>\\n<nav class=\"mainNav\">\\n<ul class=\"inlineBlock\">\\n<li class=\"navPolicy active\">\\n<a href=\"https://newtaipei.run/webs/home.html\">一千萬人的舞台</a>\\n</li>\\n<li class=\"\">\\n<a href=\"https://newtaipei.run/webs/news.html\">新聞中心</a>\\n</li>\\n<li class=\"\">\\n<a href=\"https://newtaipei.run/webs/rumor.html\">謠言終結者</a>\\n</li>\\n\\n<li class=\"\">\\n<a href=\"https://newtaipei.run/webs/donate.html\">小額捐款</a>\\n</li>\\n</ul>\\n<ul class=\"inlineBlock socialNav\">\\n<li><a href=\"https://www.facebook.com/gogogoeball/\" target=\"_blank\"><img src=\"https://newtaipei.run/contents/frontend/assets/images/icon/fb-black.png\"></a></li>\\n<li><a href=\"https://www.instagram.com/eballgogogo/?hl=zh-tw\" target=\"_blank\"><img src=\"https://newtaipei.run/contents/frontend/assets/images/icon/ig-black.png\"></a></li>\\n<li><a href=\"https://page.line.me/eballgogogo\" target=\"_blank\"><img src=\"https://newtaipei.run/contents/frontend/assets/images/icon/line-black.png\"></a></li>\\n<li><a href=\"https://www.youtube.com/eballgogogo\" target=\"_blank\"><img src=\"https://newtaipei.run/contents/frontend/assets/images/icon/yu-black.png\"></a></li>\\n</ul>\\n</nav>\\n</header>\\n\\n<nav class=\"SubNav\">\\n<div class=\"container\">\\n<ul class=\"inlineBlock\">\\n<li>\\n<a href=\"https://newtaipei.run/webs/policy_366597E6F9A7C84A7C6F8548A6E6EE7D.html\">環形城市</a>\\n<ul>\\n<li>\\n<a href=\"https://newtaipei.run/webs/policy_content_B17738E7A4278E2C30E7F0F744C1EC9D.html\">支柱4+1</a>\\n</li>\\n<li>\\n<a href=\"https://newtaipei.run/webs/policy_content_F8732575D86E0B0DADCB225F90241399.html\">都市再生</a>\\n</li>\\n<li>\\n<a href=\"https://newtaipei.run/webs/policy_content_5788BEF098A150B675D5763C2ECD049A.html\">產業創生</a>\\n</li>\\n<li>\\n<a href=\"https://newtaipei.run/webs/policy_content_1E82E20582B5C0C48587AE5D3001A9CC.html\">智慧交通</a>\\n</li>\\n<li>\\n<a href=\"https://newtaipei.run/webs/policy_content_657B6D8C46C9B7FA25FD40835B209FC8.html\">扶老攜幼</a>\\n</li>\\n<li>\\n<a href=\"https://newtaipei.run/webs/policy_content_533B6E62B05AE9AF8653F41F7FBD1DB2.html\">城市美學與設計</a>\\n</li>\\n</ul>\\n</li>\\n<li>\\n<a href=\"https://newtaipei.run/webs/policy_8F114DDAAD7325368290C8534E0B40B2.html\">多元城市</a>\\n<ul>\\n<li>\\n<a href=\"https://newtaipei.run/webs/policy_content_6A2B5E1E2CF9DE51EB85A47F86BEDC60.html\">經濟發展政策</a>\\n</li>\\n<li>\\n<a href=\"https://newtaipei.run/webs/policy_content_80229BA4E6D6A25FF17D91BAD21FA0DE.html\">青年政策</a>\\n</li>\\n<li>\\n<a href=\"https://newtaipei.run/webs/policy_content_1A6F75832DBE83D09601B47C1FD0CCC9.html\">客家政策</a>\\n</li>\\n<li>\\n<a href=\"https://newtaipei.run/webs/policy_content_62392D7AD9391272B31AACCB9538E703.html\">原住民族政策</a>\\n</li>\\n<li>\\n<a href=\"https://newtaipei.run/webs/policy_content_F2F2DB9588796F91E6ECD42A53478CC2.html\">動保政策</a>\\n</li>\\n<li>\\n<a href=\"https://newtaipei.run/webs/policy_content_B659D8FBC00CC52E7E24033A0723ACE2.html\">新住民政策</a>\\n</li>\\n<li>\\n<a href=\"https://newtaipei.run/webs/policy_content_D7AF692DD45976E24DCF84E45B7C60C7.html\">韌性城市</a>\\n</li>\\n<li>\\n<a href=\"https://newtaipei.run/webs/policy_content_556991C76670206391EADBE42398CA25.html\">空氣汙染防制政策</a>\\n</li>\\n<li>\\n<a href=\"https://newtaipei.run/webs/policy_content_3035B472318AEB0BC117CC848A50461D.html\">能源政策</a>\\n</li>\\n<li>\\n<a href=\"https://newtaipei.run/webs/policy_content_F555E82E98C6B8476E21440C0393C2C4.html\">校園政策</a>\\n</li>\\n<li>\\n<a href=\"https://newtaipei.run/webs/policy_content_44F3B6714A8928181921AEF558B6B61E.html\">大學生安居政策</a>\\n</li>\\n<li>\\n<a href=\"https://newtaipei.run/webs/policy_content_B002AC18513C18E28E6B5633EB54FD7D.html\">勞工政策</a>\\n</li>\\n<li>\\n<a href=\"https://newtaipei.run/webs/policy_content_8BDAF272054B4B2CFFFB7DCE07ACD56B.html\">新北126計畫</a>\\n</li>\\n<li>\\n<a href=\"https://newtaipei.run/webs/policy_content_DB4C21744F721A63D61CC75621DBF021.html\">住宅政策</a>\\n</li>\\n<li>\\n<a href=\"https://newtaipei.run/webs/policy_content_A77BAF0D6874F90710B59E45ECD8D4DE.html\">體育政策</a>\\n</li>\\n<li>\\n<a href=\"https://newtaipei.run/webs/policy_content_D7A85A0EA3CECCA36648536B7789EA5B.html\">婦女政策</a>\\n</li>\\n<li>\\n<a href=\"https://newtaipei.run/webs/policy_content_933853C9F548DDD9BBDDCD26EF116061.html\">垃圾清運政策</a>\\n</li>\\n<li>\\n<a href=\"https://newtaipei.run/webs/policy_content_156856E52746BEFA2EF3B40C86880489.html\">托育政策</a>\\n</li>\\n<li>\\n<a href=\"https://newtaipei.run/webs/policy_content_86C3A535864AF74F012EC9734268F647.html\">扶老政策</a>\\n</li>\\n<li>\\n<a href=\"https://newtaipei.run/webs/policy_content_6CFE9B95EFECAB0E7AC85E8039735092.html\">Kebijakan Imigran Baru</a>\\n</li>\\n<li>\\n<a href=\"https://newtaipei.run/webs/policy_content_6A3ABEE1A3638934A693BC1115412408.html\">親子體驗博物館</a>\\n</li>\\n<li>\\n<a href=\"https://newtaipei.run/webs/policy_content_71DE76353ED0300A11AC97C9C0DEF69B.html\">大匠國際博覽會</a>\\n</li>\\n</ul>\\n</li>\\n<li>\\n<a href=\"https://newtaipei.run/webs/policy_314C0602EC20E431B6BDA985F9E102F5.html\">產業之旅</a>\\n<ul>\\n<li>\\n<a href=\"https://newtaipei.run/webs/policy_content_93BBF66612CA7B688E276D4FB8BC5543.html\">世界紡織廊帶</a>\\n</li>\\n<li>\\n<a href=\"https://newtaipei.run/webs/policy_content_6736B396D411B22D457D2939B5D1AC8A.html\">坪林白青長茶</a>\\n</li>\\n<li>\\n<a href=\"https://newtaipei.run/webs/policy_content_A0F21B8FABBADC66F31704CA10F7EE13.html\">三重黑色聚落</a>\\n</li>\\n<li>\\n<a href=\"https://newtaipei.run/webs/policy_content_E60C9DF449C059616AF608BDA085628F.html\">鶯歌文藝復興</a>\\n</li>\\n</ul>\\n</li>\\n<li>\\n<a href=\"https://newtaipei.run/webs/policy_5B577930EC470621B1BB86FB8F72547F.html\">市政體檢</a>\\n<ul>\\n<li>\\n<a href=\"https://newtaipei.run/webs/policy_content_429AF65414FE923248C2BEFCD9AE8E25.html\">富基漁港</a>\\n</li>\\n<li>\\n<a href=\"https://newtaipei.run/webs/policy_content_31B101AFAA9BE4BD8D4D3B9D735919DC.html\">金山青年活動中心</a>\\n</li>\\n<li>\\n<a href=\"https://newtaipei.run/webs/policy_content_F40BBF6C3B6E2B435D7AA65DEE42C0D7.html\">新店大樹之家</a>\\n</li>\\n<li>\\n<a href=\"https://newtaipei.run/webs/policy_content_0B2CC9047E641B54D7C53DBC325E5CDE.html\">板橋435藝文特區</a>\\n</li>\\n<li>\\n<a href=\"https://newtaipei.run/webs/policy_content_8C796E4E188BCA638E28B66454C03ECB.html\">湳仔溝</a>\\n</li>\\n<li>\\n<a href=\"https://newtaipei.run/webs/policy_content_994E4B5B029550BBBAAAA84A91090EC8.html\">大漢溪左岸</a>\\n</li>\\n</ul>\\n</li>\\n<li>\\n<a href=\"https://newtaipei.run/webs/policy_F9A89BB291A02E6BAD0AEE866E89FC9D.html\">還好有蘇貞昌</a>\\n<ul>\\n<li>\\n<a href=\"https://newtaipei.run/webs/policy_content_14D9639C9314D323F35234246A7F494A.html\">一起，找回家的路</a>\\n</li>\\n<li>\\n<a href=\"https://newtaipei.run/webs/policy_content_0E63730F0BC504CBF200FCF0CCC65341.html\">鶯歌文藝復興</a>\\n</li>\\n<li>\\n<a href=\"https://newtaipei.run/webs/policy_content_973D9EF918E30C0563B04D16E5E7FD95.html\">團結，成功對抗失控戰疫</a>\\n</li>\\n<li>\\n<a href=\"https://newtaipei.run/webs/policy_content_553D82FC2FE532CF76A7C364D3CB8CF1.html\">永遠的搖滾魂 海洋音樂祭</a>\\n</li>\\n<li>\\n<a href=\"https://newtaipei.run/webs/policy_content_DFA185B5DA5192EFE69D9640DDA9D854.html\">守護，每個來到新北的孩子</a>\\n</li>\\n</ul>\\n</li>\\n</ul>\\n</div>\\n</nav>\\n\\n<div class=\"block\"></div>\\n\\n<a href=\"#\" class=\"btn-more-content\">\\n<h5>繼續閱讀</h5>\\n<aside><img src=\"https://newtaipei.run/contents/frontend/assets/images/icon/more.png\"></aside>\\n</a>\\n\\n<main class=\"wrapper\">\\n\\n<section class=\"indexIntro\">\\n<figure class=\"display-table\">\\n<article class=\"videoCover\">\\n<iframe src=\"https://www.youtube.com/embed/A28T5UZihmE\" frameborder=\"0\" allow=\"autoplay; encrypted-media\" allowfullscreen></iframe>\\n</article>\\n<article class=\"intro\">\\n<h2>大匠國際博覽會</h2>\\n<p>\\n我要在鶯歌工藝城舉辦一個國際盛會 ，結合在地文化、匠人藝術與國際觀光，讓台灣的大匠走向世界，也讓世界來到新北。 </p>\\n<aside>\\n<img src=\"https://newtaipei.run/contents/frontend/assets/images/icon/0.png\">\\n</aside>\\n</article>\\n</figure>\\n</section>\\n\\n<section class=\"indexPolicy linkRight\">\\n<div class=\"container\">\\n<h1>大匠國際博覽會</h1>\\n<p>\\n\\n<p><iframe frameborder=\"0\" height=\"0\" name=\"__bkframe\" src=\"about:blank\" style=\"display:none;position:absolute;clip:rect(0px 0px 0px 0px)\" width=\"0\"></iframe><script type=\"text/javascript\" src=\"//tags.bkrtx.com/js/bk-coretag.js\"></script><script type=\"text/javascript\">\\r\\n\\tbk_addPageCtx(\\'Level1\\', \\'policy| \\'); \\r\\n\\tbk_addPageCtx(\\'Level2\\', \\'diverse| \\'); \\r\\n\\tbk_addPageCtx(\\'Level3\\', \\'expo| \\'); \\r\\nbk_doJSTag(67787, 4); \\r\\n</script></p>\\n<p>擔任台北縣長時，我成功讓鶯歌以「陶瓷」作為號召，吸引無數的觀光客到來。近年因為新北市府不甚重視、疏於經營，加上當地陶瓷產業面臨亟待轉型的困境，鶯歌的光彩正在悄悄褪去。新北幅員廣大、人口眾多，工藝產業也不只有鶯歌的陶瓷，只是如此豐沛的工藝能量和人才，都還在等待一個被看見的機會。</p>\\n<p><img alt=\"新新北,蘇貞昌,讓新北工藝產業被看見的未來作法,大匠國際博覽會\" src=\"/upload/ckfinder/images/%E5%A4%A7%E5%8C%A0%E5%8D%9A%E8%A6%BD%E6%9C%83%E6%89%8B%E6%9D%BF_%E4%BD%9C%E6%B3%95.jpg\" /></p>\\n<p>在美國，有「全美工藝博覽會」每年固定在芝加哥植物園舉辦，至2018年已是第34屆了，每一屆都有一千多人來申請，再經由評選機制選出140多位藝術家參展，類別涵蓋陶瓷、纖維裝飾、家具、玻璃、皮革、木工等12類工藝；<img alt=\"新新北,蘇貞昌,大匠國際博覽會,全美工藝博覽會\" src=\"/upload/ckfinder/images/%E5%A4%A7%E5%8C%A0%E5%8D%9A%E8%A6%BD%E6%9C%83%E6%89%8B%E6%9D%BF_%E5%85%A8%E7%BE%8E%E5%B7%A5%E8%97%9D%E5%8D%9A%E8%A6%BD%E6%9C%83.jpg\" /><br />\\n在日本松本市，有每年定期舉辦一整個月的「工藝五月（工芸の五月）」藝術季，用50個以上松本市區空間，串聯起整座城市的匠人與空間。<img alt=\"新新北,蘇貞昌,大匠國際博覽會,日本工藝五月\" src=\"/upload/ckfinder/images/%E5%A4%A7%E5%8C%A0%E5%8D%9A%E8%A6%BD%E6%9C%83%E6%89%8B%E6%9D%BF_%E6%97%A5%E6%9C%AC%E6%9D%BE%E6%9C%AC%E5%B8%82%E5%B7%A5%E8%97%9D%E7%9A%84%E4%BA%94%E6%9C%88.jpg\" /><br />\\n我認為，新北市有條件、且應該舉辦這樣的大型活動，來支持我們的工藝產業和人才，讓台灣的大匠走向國際，也讓世界走進新北。</p>\\n<p>未來，我要借鏡「全美工藝博覽會」、「工藝五月」，在鶯歌工藝城推出全國首創的「大匠國際博覽會」，透過甄選及邀請，展出國內外多種類別的工藝傑作，同時結合開放市集，讓生活日用品有曝光、交易的機會。透過這個博覽會平台，也能讓更多精彩的作品互相切磋、交流，進而為產業的升級與轉型找到一個新出路。</p>\\n<p>一個城市的升級和國際化的程度有很深的關聯，如柏林時裝週、坎城影展，都是讓都市成為國際矚目焦點的典範。我要藉由「大匠國際博覽會」挖掘更多的工藝人才，並媒合各種資源，串聯創新人才與設計，促進產業發展，讓新北成為國際工藝品牌，同時變身為一座美學城市。品牌一旦打響了，就能增加銷路，更能強化大匠工藝的認同感，讓技藝不斷被傳承，讓新北的工藝品、台灣的工藝品行銷全世界。</p>\\n</p>\\n</div>\\n</section>\\n\\n<section class=\"indexCreate\">\\n<hr>\\n</section>\\n</main>\\n\\n\\n<section class=\"navTag\">\\n<div class=\"container\">\\n<nav>\\n<ul class=\"inlineBlock\">\\n<li>\\n<a class=\"tagLink \" href=\"https://newtaipei.run/webs/policy_366597E6F9A7C84A7C6F8548A6E6EE7D.html\">環形城市</a>\\n</li>\\n<li>\\n<a class=\"tagLink active\" href=\"https://newtaipei.run/webs/policy_8F114DDAAD7325368290C8534E0B40B2.html\">多元城市</a>\\n</li>\\n<li>\\n<a class=\"tagLink \" href=\"https://newtaipei.run/webs/policy_314C0602EC20E431B6BDA985F9E102F5.html\">產業之旅</a>\\n</li>\\n<li>\\n<a class=\"tagLink \" href=\"https://newtaipei.run/webs/policy_5B577930EC470621B1BB86FB8F72547F.html\">市政體檢</a>\\n</li>\\n<li>\\n<a class=\"tagLink \" href=\"https://newtaipei.run/webs/policy_F9A89BB291A02E6BAD0AEE866E89FC9D.html\">還好有蘇貞昌</a>\\n</li>\\n</ul>\\n</nav>\\n</div>\\n</section>\\n\\n<section class=\"orederEdm\">\\n<div class=\"container\">\\n<form action=\"https://newtaipei.run/ajax_form/subscription_policy\" id=\"subscription_policy\" method=\"post\" accept-charset=\"utf-8\">\\n<h1>訂閱最新政策訊息</h1>\\n<input type=\"text\" name=\"email\" id=\"subscription_email\" placeholder=\"請填入您的電子郵件信箱\">\\n<button type=\"button\" id=\"subscription\">訂閱</button>\\n<p>Or just email to <a href=\"/cdn-cgi/l/email-protection#5c35323a331c32392b283d352c3935722e2932\"><span class=\"__cf_email__\" data-cfemail=\"4920272f2609272c3e3d2820392c20673b3c27\">[email&#160;protected]</span></a></p>\\n</form>\\n</div>\\n</section>\\n\\n<footer>\\n<div class=\"container\">\\n<aside><img src=\"https://newtaipei.run/contents/frontend/assets/images/logo-green.png\"></aside>\\n<p>\\n版權所有 | 蘇貞昌競選新北市長辦公室<br class=\"visible-xs\"><span class=\"hidden-xs\" style=\"margin-right: 1.5em;\"></span>\\n地址 | 新北市板橋區縣民大道二段3號8樓<br class=\"visible-xs\"><span class=\"hidden-xs\" style=\"margin-right: 1.5em;\"></span>\\n代表號 | 02-8979-8122\\n</p>\\n</div>\\n</footer>\\n<script data-cfasync=\"false\" src=\"/cdn-cgi/scripts/5c5dd728/cloudflare-static/email-decode.min.js\"></script><script src=\"https://newtaipei.run/contents/frontend/js/jquery-1.11.2.min.js\"></script>\\n<script src=\"https://newtaipei.run/contents/frontend/js/jquery.form.min.js\" type=\"text/javascript\"></script>\\n<script src=\"https://newtaipei.run/contents/frontend/js/bootstrap.js\"></script>\\n<script src=\"https://newtaipei.run/contents/frontend/js/url.min.js\"></script>\\n<script src=\"https://newtaipei.run/contents/frontend/js/jquery.parallax.js\"></script>\\n<script src=\"https://newtaipei.run/contents/frontend/assets/js/swiper.min.js\"></script>\\n\\n<script src=\"https://newtaipei.run/contents/frontend/js/TweenMax.min.js\"></script>\\n<script src=\"https://newtaipei.run/contents/frontend/js/jquery.superscrollorama.js\"></script>\\n<script src=\"https://newtaipei.run/contents/frontend/js/jquery.mousewheel.js\"></script>\\n<script src=\"https://newtaipei.run/contents/frontend/js/jquery.transit.min.js?1542707623\"></script>\\n\\n<script type=\"text/javascript\" src=\"https://newtaipei.run/contents/frontend/fancybox/lib/jquery.mousewheel-3.0.6.pack.js\"></script>\\n<script type=\"text/javascript\" src=\"https://newtaipei.run/contents/frontend/fancybox/source/jquery.fancybox.pack.js?v=2.1.5\"></script>\\n\\n<script src=\"https://newtaipei.run/contents/frontend/assets/js/animate.js?1542707623\"></script>\\n<script src=\"https://newtaipei.run/contents/frontend/assets/js/movie.js\"></script>\\n\\n<script src=\"https://newtaipei.run/contents/frontend/js/clipboard.min.js\" type=\"text/javascript\"></script>\\n<script>\\r\\n\\t\\t$().ready(function(){\\r\\n\\t\\t\\t\\t\\t\\t\\r\\n\\t\\t\\t// 送出資料驗證\\r\\n\\t\\t\\t$(\"#subscription\").click(function(){\\r\\n\\t\\t\\t\\tif(!$(\"#subscription_email\").val()){\\r\\n\\t\\t\\t\\t\\talert(\\'請輸入eMail\\');\\r\\n\\t\\t\\t\\t} else if(!chkemail($(\"#subscription_email\").val())){\\r\\n\\t\\t\\t\\t\\talert(\\'eMail格式錯誤，請重新確認\\');\\r\\n\\t\\t\\t\\t} else {\\r\\n\\t\\t\\t\\t\\t$(\\'#subscription_policy\\').ajaxForm({error:showError,success:showResponse_footer,dataType:\\'json\\',timeout:30000}).submit();\\r\\n\\t\\t\\t\\t}\\r\\n\\t\\t\\t});\\r\\n\\t\\t\\tfunction showResponse_footer(result, statusText){\\r\\n\\t\\t\\t\\tif(result[\\'result\\'] == 0){\\r\\n\\t\\t\\t\\t\\talert(result[\\'err\\']);\\r\\n\\t\\t\\t\\t}else if(result[\\'result\\'] == 1){\\r\\n\\t\\t\\t\\t\\talert(result[\\'message\\']);\\r\\n\\t\\t\\t\\t\\t$(\"#subscription_email\").val(\\'\\');\\r\\n\\t\\t\\t\\t}\\r\\n\\t\\t\\t};\\r\\n\\t\\t\\t// 送出資料驗證 End\\r\\n\\t\\t\\t\\r\\n\\t\\t\\tfunction showError(result, statusText){\\r\\n\\t\\t\\t\\tif(result){\\r\\n\\t\\t\\t\\t\\talert(statusText);\\r\\n\\t\\t\\t\\t\\twindow.location.reload();\\r\\n\\t\\t\\t\\t}\\r\\n\\t\\t\\t}\\r\\n\\t\\t})\\r\\n\\t\\t\\r\\n\\t\\t// FB分享\\r\\n\\t\\twindow.fbAsyncInit = function() {\\r\\n\\t\\t\\tFB.init({\\r\\n\\t\\t\\t\\tappId      : \\'248784119244454\\',\\r\\n\\t\\t\\t\\txfbml      : true,\\r\\n\\t\\t\\t\\tversion    : \\'v3.0\\'\\r\\n\\t\\t\\t});\\r\\n\\t\\t\\tFB.AppEvents.logPageView();\\r\\n\\t\\t};\\r\\n\\t\\t(function(d, s, id){\\r\\n\\t\\t\\tvar js, fjs = d.getElementsByTagName(s)[0];\\r\\n\\t\\t\\tif (d.getElementById(id)) {return;}\\r\\n\\t\\t\\tjs = d.createElement(s); js.id = id;\\r\\n\\t\\t\\tjs.src = \"//connect.facebook.net/en_US/sdk.js\";\\r\\n\\t\\t\\tfjs.parentNode.insertBefore(js, fjs);\\r\\n\\t\\t}(document, \\'script\\', \\'facebook-jssdk\\'));\\r\\n\\t\\t\\r\\n\\t\\t$(\".fb_share\").click(function(){\\r\\n\\t\\t\\tfb_share();\\r\\n\\t\\t})\\r\\n\\t\\t\\r\\n\\t\\tfunction fb_share()\\r\\n\\t\\t{\\r\\n\\t\\t\\tFB.ui(\\r\\n\\t\\t\\t{\\r\\n\\t\\t\\t\\tmethod: \\'share\\',\\r\\n\\t\\t\\t\\thref: \\'https://newtaipei.run/webs/policy_content_71DE76353ED0300A11AC97C9C0DEF69B.html\\'\\r\\n\\t\\t\\t}, function(response){});\\r\\n\\t\\t}\\r\\n\\t\\t// FB分享 End\\r\\n\\t\\tfunction chkemail(strEmail) {\\r\\n\\t\\t\\tif (strEmail.search(/^\\\\w+((-\\\\w+)|(\\\\.\\\\w+))*\\\\@[A-Za-z0-9]+((\\\\.|-)[A-Za-z0-9]+)*\\\\.[A-Za-z]+$/)!= -1)\\r\\n\\t\\t\\t\\treturn true;\\r\\n\\t\\t\\telse\\r\\n\\t\\t\\t\\treturn false;\\r\\n\\t\\t}\\r\\n\\t</script> <script>\\r\\n\\t\\t$(function(){\\r\\n\\t\\t\\t/*這邊是JS,到時可以移除*/\\r\\n// \\t\\t\\tcategoryCreate(\\'.temList\\',6,true);\\r\\n// \\t\\t\\tcategoryCreate(\\'#scheduleSwiper .swiper-wrapper\\',8,false);\\r\\n\\t\\t\\tswiperStartArticle(\\'#scheduleSwiper\\',2000);\\r\\n// \\t\\t\\tvideoBox();\\r\\n\\t\\t\\t\\r\\n\\t\\t\\tindexMoving();\\r\\n\\t\\t\\t\\r\\n\\t\\t\\t$(\".method\").eq(0).addClass(\\'active\\');\\r\\n\\t\\t\\t$(\".method_list\").hide();\\r\\n\\t\\t\\t$(\".method_list\").eq(0).show();\\r\\n\\t\\t\\t\\r\\n\\t\\t\\t$(\".method\").click(function(){\\r\\n\\t\\t\\t\\t$(\".method\").removeClass(\\'active\\');\\r\\n\\t\\t\\t\\t$(this).addClass(\\'active\\');\\r\\n\\t\\t\\t\\t$(\".method_list\").hide();\\r\\n\\t\\t\\t\\t$(\"#\"+$(this).attr(\\'ids\\')).show();\\r\\n\\t\\t\\t})\\r\\n\\t\\t\\t\\r\\n\\t\\t\\t//繼續閱讀\\r\\n\\t\\t    moreAnimated();\\r\\n\\t\\t    $(window).on(\\'scroll\\',btnMoreShow);\\r\\n\\t\\t});\\r\\n\\t</script>\\n</body>\\n</html>'"
      ]
     },
     "execution_count": 314,
     "metadata": {},
     "output_type": "execute_result"
    }
   ],
   "source": [
    "url = \"https://newtaipei.run/webs/policy_content_71DE76353ED0300A11AC97C9C0DEF69B.html\"\n",
    "res2 = requests.get(url)\n",
    "res2.text"
   ]
  },
  {
   "cell_type": "code",
   "execution_count": 315,
   "metadata": {},
   "outputs": [
    {
     "name": "stderr",
     "output_type": "stream",
     "text": [
      "C:\\Users\\Ashe\\Anaconda3\\lib\\site-packages\\bs4\\__init__.py:181: UserWarning: No parser was explicitly specified, so I'm using the best available HTML parser for this system (\"lxml\"). This usually isn't a problem, but if you run this code on another system, or in a different virtual environment, it may use a different parser and behave differently.\n",
      "\n",
      "The code that caused this warning is on line 193 of the file C:\\Users\\Ashe\\Anaconda3\\lib\\runpy.py. To get rid of this warning, change code that looks like this:\n",
      "\n",
      " BeautifulSoup(YOUR_MARKUP})\n",
      "\n",
      "to this:\n",
      "\n",
      " BeautifulSoup(YOUR_MARKUP, \"lxml\")\n",
      "\n",
      "  markup_type=markup_type))\n"
     ]
    },
    {
     "data": {
      "text/plain": [
       "'大匠國際博覽會我要在鶯歌工藝城舉辦一個國際盛會 ，結合在地文化、匠人藝術與國際觀光，讓台灣的大匠走向世界，也讓世界來到新北。 <img src=\"https://newtaipei.run/contents/frontend/assets/images/icon/0.png\"/>'"
      ]
     },
     "execution_count": 315,
     "metadata": {},
     "output_type": "execute_result"
    }
   ],
   "source": [
    "data2 = BeautifulSoup(res2.text)\n",
    "content = data2.select(\"article.intro\")\n",
    "content = str(content).strip(\"[]\").replace(\"</p>\", '').replace(\"n<p>\", '').replace(\"\\n\", '').replace(\"</article>\", '').replace(\"<h2>\", '').replace(\"<p>\", '')\n",
    "content = content.replace('<article class=\"intro\">', '').replace('<p p=\"\">', '').replace('</h2>', '').replace('<aside>', '').replace('</aside>', '')\n",
    "content = content.replace('<.*>', \"\")\n",
    "content"
   ]
  },
  {
   "cell_type": "code",
   "execution_count": 316,
   "metadata": {},
   "outputs": [],
   "source": [
    "content = content.replace('</font></font><font style=\"vertical-align: inherit;\"><font style=\"vertical-align: inherit;\">', '')\n",
    "content = content.replace('</font></font>, <font style=\"vertical-align: inherit;\"><font style=\"vertical-align: inherit;\">', '')\n",
    "content = content.replace('<font style=\"vertical-align: inherit;\"><font style=\"vertical-align: inherit;\">', '')\n",
    "content = content.replace('</font></font>', '')"
   ]
  },
  {
   "cell_type": "code",
   "execution_count": 308,
   "metadata": {},
   "outputs": [
    {
     "data": {
      "text/plain": [
       "'親子體驗博物館板橋車站旁的機車停車場，其實是大台北新劇院的預定地，卻已延宕十多年仍無建設。未來，我要參考波士頓兒童博物館和大阪兒童廣場的成功經驗，在這裡打造一座全國首創的「親子體驗博物館」，讓新北市的父母、孩子一起在互動與學習中快樂成長。 <img src=\"https://newtaipei.run/contents/frontend/assets/images/icon/0.png\"/>'"
      ]
     },
     "execution_count": 308,
     "metadata": {},
     "output_type": "execute_result"
    }
   ],
   "source": [
    "content"
   ]
  },
  {
   "cell_type": "code",
   "execution_count": 317,
   "metadata": {},
   "outputs": [
    {
     "data": {
      "text/plain": [
       "'大匠國際博覽會我要在鶯歌工藝城舉辦一個國際盛會 ，結合在地文化、匠人藝術與國際觀光，讓台灣的大匠走向世界，也讓世界來到新北。 '"
      ]
     },
     "execution_count": 317,
     "metadata": {},
     "output_type": "execute_result"
    }
   ],
   "source": [
    "content = content.replace('<img src=\"https://newtaipei.run/contents/frontend/assets/images/icon/0.png\"/>', '')\n",
    "content = content.replace('<b>', '')\n",
    "content = content.replace('</b>', '')\n",
    "content"
   ]
  },
  {
   "cell_type": "code",
   "execution_count": 318,
   "metadata": {},
   "outputs": [
    {
     "data": {
      "text/plain": [
       "'大匠國際博覽會我要在鶯歌工藝城舉辦一個國際盛會 ，結合在地文化、匠人藝術與國際觀光，讓台灣的大匠走向世界，也讓世界來到新北。 '"
      ]
     },
     "execution_count": 318,
     "metadata": {},
     "output_type": "execute_result"
    }
   ],
   "source": [
    "content = content.replace('<img src=\"https://newtaipei.run/contents/frontend/assets/images/icon/0.png\"/>, ', '')\n",
    "content = content.replace('<meta charset=\"utf-8\"/><b id=\"docs-internal-guid-c4ca99e8-7fff-ff96-0aac-2c40b2c99a47\">》</b>', '')\n",
    "content = content.replace('<h3>', '')\n",
    "content = content.replace('</h3>', '')\n",
    "content = content.replace('<br/>', '')\n",
    "content"
   ]
  },
  {
   "cell_type": "code",
   "execution_count": 319,
   "metadata": {},
   "outputs": [
    {
     "data": {
      "text/plain": [
       "'大匠國際博覽會我要在鶯歌工藝城舉辦一個國際盛會 ，結合在地文化、匠人藝術與國際觀光，讓台灣的大匠走向世界，也讓世界來到新北。 '"
      ]
     },
     "execution_count": 319,
     "metadata": {},
     "output_type": "execute_result"
    }
   ],
   "source": [
    "content = content.replace('<a href=\"https://newtaipei.run/webs/policy_content_DB4C21744F721A63D61CC75621DBF021.html\">', '')\n",
    "content = content.replace('<a href=\"https://newtaipei.run/webs/policy_content_657B6D8C46C9B7FA25FD40835B209FC8.html\">', '')\n",
    "content = content.replace('<a href=\"https://newtaipei.run/webs/policy_content_6736B396D411B22D457D2939B5D1AC8A.html\">', '')\n",
    "content = content.replace('（<a href=\"https://www.youtube.com/watch?v=4rfsWzhmD_M\">看蘇貞昌的《產業創生》演說）', '')\n",
    "content = content.replace('\\xa0', '')\n",
    "content"
   ]
  },
  {
   "cell_type": "code",
   "execution_count": 320,
   "metadata": {},
   "outputs": [],
   "source": [
    "dpp_df[\"content\"][26] = content"
   ]
  },
  {
   "cell_type": "code",
   "execution_count": 321,
   "metadata": {},
   "outputs": [
    {
     "data": {
      "text/html": [
       "<div>\n",
       "<style>\n",
       "    .dataframe thead tr:only-child th {\n",
       "        text-align: right;\n",
       "    }\n",
       "\n",
       "    .dataframe thead th {\n",
       "        text-align: left;\n",
       "    }\n",
       "\n",
       "    .dataframe tbody tr th {\n",
       "        vertical-align: top;\n",
       "    }\n",
       "</style>\n",
       "<table border=\"1\" class=\"dataframe\">\n",
       "  <thead>\n",
       "    <tr style=\"text-align: right;\">\n",
       "      <th></th>\n",
       "      <th>title</th>\n",
       "      <th>content</th>\n",
       "    </tr>\n",
       "  </thead>\n",
       "  <tbody>\n",
       "    <tr>\n",
       "      <th>0</th>\n",
       "      <td>支柱4+1</td>\n",
       "      <td>支柱4+1市長的態度，決定城市進步的速度。 , 五具引擎 都更加速新北市屋齡超過30年的老屋...</td>\n",
       "    </tr>\n",
       "    <tr>\n",
       "      <th>1</th>\n",
       "      <td>都市再生</td>\n",
       "      <td>都市再生新北市，屋齡超過三十年的老房子有六十七萬戶，要怎麼讓新北市擺脫都更牛步化，由政府主導...</td>\n",
       "    </tr>\n",
       "    <tr>\n",
       "      <th>2</th>\n",
       "      <td>產業創生</td>\n",
       "      <td>產業創生新北市的各類產業，從過去到現在，積累出世界水準的生產技藝、這些產業，有不少優秀的年輕...</td>\n",
       "    </tr>\n",
       "    <tr>\n",
       "      <th>3</th>\n",
       "      <td>智慧交通</td>\n",
       "      <td>智慧交通靈活運用科技，讓交通更貼近生活 &lt;建置交通智慧系統，提升運載效率與安全我將更著重在與...</td>\n",
       "    </tr>\n",
       "    <tr>\n",
       "      <th>4</th>\n",
       "      <td>扶老攜幼</td>\n",
       "      <td>扶老攜幼老吾老以及人之老，幼吾幼以及人之幼。 盤點閒置空間，增加扶老攜幼據點我要盤點出新北市...</td>\n",
       "    </tr>\n",
       "    <tr>\n",
       "      <th>5</th>\n",
       "      <td>城市美學與設計</td>\n",
       "      <td>城市美學與設計一朵花，可以改變一條街道；一個態度，可以改變整座城市，市長的態度，決定城市的面...</td>\n",
       "    </tr>\n",
       "    <tr>\n",
       "      <th>6</th>\n",
       "      <td>經濟發展政策</td>\n",
       "      <td>經濟發展政策新北市的環境、人力與產業資源都十分豐富，未來我有方法，在這些得天獨厚的條件基礎上...</td>\n",
       "    </tr>\n",
       "    <tr>\n",
       "      <th>7</th>\n",
       "      <td>青年政策</td>\n",
       "      <td>青年政策在城市競爭的時代，未來的新北市要結合年輕人的創新與活力，一起打造新新北。 積極辦理職...</td>\n",
       "    </tr>\n",
       "    <tr>\n",
       "      <th>8</th>\n",
       "      <td>客家政策</td>\n",
       "      <td>客家政策文化和語言的傳承，認同自己的文化 客家事務，預算補助客家社團扮演城市裡傳承客家文化、...</td>\n",
       "    </tr>\n",
       "    <tr>\n",
       "      <th>9</th>\n",
       "      <td>原住民族政策</td>\n",
       "      <td>原住民族政策當我們提倡多元價值，首要之務便是要讓每一個族群都能在這片土地上，自由自在的享受應...</td>\n",
       "    </tr>\n",
       "    <tr>\n",
       "      <th>10</th>\n",
       "      <td>動保政策</td>\n",
       "      <td>動保政策透過尊重動物的特質與生命，最終會回饋到我們所生活居住的城市。 動物保護自治條例，建立...</td>\n",
       "    </tr>\n",
       "    <tr>\n",
       "      <th>11</th>\n",
       "      <td>新住民政策</td>\n",
       "      <td>新住民政策新住民，為新北注入新力量 促進就業，客製化諮詢響應新南向政策，鼓勵新住民投入商用通...</td>\n",
       "    </tr>\n",
       "    <tr>\n",
       "      <th>12</th>\n",
       "      <td>韌性城市</td>\n",
       "      <td>韌性城市台灣是世界少見、位處複合型災害風險區的島嶼，因此在面對極端氣候的挑戰時，提高城市承受...</td>\n",
       "    </tr>\n",
       "    <tr>\n",
       "      <th>13</th>\n",
       "      <td>空氣汙染防制政策</td>\n",
       "      <td>空氣汙染防制政策空氣汙染，是跨越行政區、跨越國界的課題，我將會謹慎的面對問題，大力防制空汙，...</td>\n",
       "    </tr>\n",
       "    <tr>\n",
       "      <th>14</th>\n",
       "      <td>能源政策</td>\n",
       "      <td>能源政策台灣現正處於能源轉型的關鍵年代，新北市不僅不能缺席，還要成為領頭羊。 制定能源管理自...</td>\n",
       "    </tr>\n",
       "    <tr>\n",
       "      <th>15</th>\n",
       "      <td>校園政策</td>\n",
       "      <td>校園政策只要有好人才，就會有好將來。未來，我要讓孩子在校園裡快樂學習，並長大成自己理想中的模...</td>\n",
       "    </tr>\n",
       "    <tr>\n",
       "      <th>16</th>\n",
       "      <td>大學生安居政策</td>\n",
       "      <td>大學生安居政策營造優質的居住環境，才能增進學生的學習與發展 在大學密集區域，興建新北大學生聯...</td>\n",
       "    </tr>\n",
       "    <tr>\n",
       "      <th>17</th>\n",
       "      <td>勞工政策</td>\n",
       "      <td>勞工政策守護每個工作人的福祉 活絡產業樣貌，促進就業及創業我將引進大數據來輔導就業，讓青年進...</td>\n",
       "    </tr>\n",
       "    <tr>\n",
       "      <th>18</th>\n",
       "      <td>新北126計畫</td>\n",
       "      <td>新北126計畫因海而生的美麗，我要讓全世界都看見 &lt;img src=\"https://new...</td>\n",
       "    </tr>\n",
       "    <tr>\n",
       "      <th>19</th>\n",
       "      <td>住宅政策</td>\n",
       "      <td>住宅政策提供安全、有尊嚴的居住環境，保障市民的居住權利。 多元興辦，多管齊下推動社會住宅我如...</td>\n",
       "    </tr>\n",
       "    <tr>\n",
       "      <th>20</th>\n",
       "      <td>體育政策</td>\n",
       "      <td>體育政策擁有強健的體魄，才能正向面對未來的人生。 機關升級，能量注入新北市近年體育成績的下降...</td>\n",
       "    </tr>\n",
       "    <tr>\n",
       "      <th>21</th>\n",
       "      <td>婦女政策</td>\n",
       "      <td>婦女政策在生活的過程中，成就自己 扶老攜幼三關心，減輕負擔好開心現在提倡兩性合作，兩性應該要...</td>\n",
       "    </tr>\n",
       "    <tr>\n",
       "      <th>22</th>\n",
       "      <td>垃圾清運政策</td>\n",
       "      <td>垃圾清運政策愛護環境，輕鬆又便利 專用垃圾袋降價，垃圾清運更便宜目前全國僅台北市和新北市使用...</td>\n",
       "    </tr>\n",
       "    <tr>\n",
       "      <th>23</th>\n",
       "      <td>托育政策</td>\n",
       "      <td>托育政策幼童是新北的未來，政府有責任來當家長最強大的靠山。 盤點閒置空間，增加公托供給量現今...</td>\n",
       "    </tr>\n",
       "    <tr>\n",
       "      <th>24</th>\n",
       "      <td>扶老政策</td>\n",
       "      <td>扶老政策照顧長者，活得健康又有尊嚴 人人有牙 露齒而笑口腔健康正是影響個人全身健康及生活品質...</td>\n",
       "    </tr>\n",
       "    <tr>\n",
       "      <th>25</th>\n",
       "      <td>親子體驗博物館</td>\n",
       "      <td>親子體驗博物館板橋車站旁的機車停車場，其實是大台北新劇院的預定地，卻已延宕十多年仍無建設。未...</td>\n",
       "    </tr>\n",
       "    <tr>\n",
       "      <th>26</th>\n",
       "      <td>大匠國際博覽會</td>\n",
       "      <td>大匠國際博覽會我要在鶯歌工藝城舉辦一個國際盛會 ，結合在地文化、匠人藝術與國際觀光，讓台灣的...</td>\n",
       "    </tr>\n",
       "  </tbody>\n",
       "</table>\n",
       "</div>"
      ],
      "text/plain": [
       "       title                                            content\n",
       "0      支柱4+1  支柱4+1市長的態度，決定城市進步的速度。 , 五具引擎 都更加速新北市屋齡超過30年的老屋...\n",
       "1       都市再生  都市再生新北市，屋齡超過三十年的老房子有六十七萬戶，要怎麼讓新北市擺脫都更牛步化，由政府主導...\n",
       "2       產業創生  產業創生新北市的各類產業，從過去到現在，積累出世界水準的生產技藝、這些產業，有不少優秀的年輕...\n",
       "3       智慧交通  智慧交通靈活運用科技，讓交通更貼近生活 <建置交通智慧系統，提升運載效率與安全我將更著重在與...\n",
       "4       扶老攜幼  扶老攜幼老吾老以及人之老，幼吾幼以及人之幼。 盤點閒置空間，增加扶老攜幼據點我要盤點出新北市...\n",
       "5    城市美學與設計  城市美學與設計一朵花，可以改變一條街道；一個態度，可以改變整座城市，市長的態度，決定城市的面...\n",
       "6     經濟發展政策  經濟發展政策新北市的環境、人力與產業資源都十分豐富，未來我有方法，在這些得天獨厚的條件基礎上...\n",
       "7       青年政策  青年政策在城市競爭的時代，未來的新北市要結合年輕人的創新與活力，一起打造新新北。 積極辦理職...\n",
       "8       客家政策  客家政策文化和語言的傳承，認同自己的文化 客家事務，預算補助客家社團扮演城市裡傳承客家文化、...\n",
       "9     原住民族政策  原住民族政策當我們提倡多元價值，首要之務便是要讓每一個族群都能在這片土地上，自由自在的享受應...\n",
       "10      動保政策  動保政策透過尊重動物的特質與生命，最終會回饋到我們所生活居住的城市。 動物保護自治條例，建立...\n",
       "11     新住民政策  新住民政策新住民，為新北注入新力量 促進就業，客製化諮詢響應新南向政策，鼓勵新住民投入商用通...\n",
       "12      韌性城市  韌性城市台灣是世界少見、位處複合型災害風險區的島嶼，因此在面對極端氣候的挑戰時，提高城市承受...\n",
       "13  空氣汙染防制政策  空氣汙染防制政策空氣汙染，是跨越行政區、跨越國界的課題，我將會謹慎的面對問題，大力防制空汙，...\n",
       "14      能源政策  能源政策台灣現正處於能源轉型的關鍵年代，新北市不僅不能缺席，還要成為領頭羊。 制定能源管理自...\n",
       "15      校園政策  校園政策只要有好人才，就會有好將來。未來，我要讓孩子在校園裡快樂學習，並長大成自己理想中的模...\n",
       "16   大學生安居政策  大學生安居政策營造優質的居住環境，才能增進學生的學習與發展 在大學密集區域，興建新北大學生聯...\n",
       "17      勞工政策  勞工政策守護每個工作人的福祉 活絡產業樣貌，促進就業及創業我將引進大數據來輔導就業，讓青年進...\n",
       "18   新北126計畫  新北126計畫因海而生的美麗，我要讓全世界都看見 <img src=\"https://new...\n",
       "19      住宅政策  住宅政策提供安全、有尊嚴的居住環境，保障市民的居住權利。 多元興辦，多管齊下推動社會住宅我如...\n",
       "20      體育政策  體育政策擁有強健的體魄，才能正向面對未來的人生。 機關升級，能量注入新北市近年體育成績的下降...\n",
       "21      婦女政策  婦女政策在生活的過程中，成就自己 扶老攜幼三關心，減輕負擔好開心現在提倡兩性合作，兩性應該要...\n",
       "22    垃圾清運政策  垃圾清運政策愛護環境，輕鬆又便利 專用垃圾袋降價，垃圾清運更便宜目前全國僅台北市和新北市使用...\n",
       "23      托育政策  托育政策幼童是新北的未來，政府有責任來當家長最強大的靠山。 盤點閒置空間，增加公托供給量現今...\n",
       "24      扶老政策  扶老政策照顧長者，活得健康又有尊嚴 人人有牙 露齒而笑口腔健康正是影響個人全身健康及生活品質...\n",
       "25   親子體驗博物館  親子體驗博物館板橋車站旁的機車停車場，其實是大台北新劇院的預定地，卻已延宕十多年仍無建設。未...\n",
       "26   大匠國際博覽會  大匠國際博覽會我要在鶯歌工藝城舉辦一個國際盛會 ，結合在地文化、匠人藝術與國際觀光，讓台灣的..."
      ]
     },
     "execution_count": 321,
     "metadata": {},
     "output_type": "execute_result"
    }
   ],
   "source": [
    "dpp_df"
   ]
  },
  {
   "cell_type": "code",
   "execution_count": 326,
   "metadata": {},
   "outputs": [],
   "source": [
    "dpp_df.to_csv(\"dpp.csv\")"
   ]
  },
  {
   "cell_type": "code",
   "execution_count": 327,
   "metadata": {},
   "outputs": [
    {
     "name": "stdout",
     "output_type": "stream",
     "text": [
      "38719\n"
     ]
    }
   ],
   "source": [
    "len2 = 0\n",
    "for i in range(0, 27):\n",
    "    len1 = len(dpp_df[\"content\"][i])\n",
    "    len2 += len1\n",
    "print(len2)"
   ]
  },
  {
   "cell_type": "code",
   "execution_count": null,
   "metadata": {
    "collapsed": true
   },
   "outputs": [],
   "source": []
  }
 ],
 "metadata": {
  "kernelspec": {
   "display_name": "Python 3",
   "language": "python",
   "name": "python3"
  },
  "language_info": {
   "codemirror_mode": {
    "name": "ipython",
    "version": 3
   },
   "file_extension": ".py",
   "mimetype": "text/x-python",
   "name": "python",
   "nbconvert_exporter": "python",
   "pygments_lexer": "ipython3",
   "version": "3.6.3"
  }
 },
 "nbformat": 4,
 "nbformat_minor": 2
}
